{
 "cells": [
  {
   "cell_type": "code",
   "execution_count": 1,
   "metadata": {},
   "outputs": [],
   "source": [
    "%matplotlib inline\n",
    "import matplotlib.pyplot as plt\n",
    "import os\n",
    "from scipy.io import wavfile\n",
    "from collections import defaultdict, Counter\n",
    "from scipy import signal\n",
    "import numpy as np\n",
    "import librosa\n",
    "import random as rn\n",
    "\n",
    "from sklearn.model_selection import train_test_split\n",
    "\n",
    "import torch\n",
    "import torch.nn as nn\n",
    "import torch.nn.functional as F\n",
    "import torch.optim as optim\n",
    "from torch.utils.data import DataLoader, Dataset, TensorDataset\n",
    "import torchvision\n",
    "from torchvision import datasets, transforms"
   ]
  },
  {
   "cell_type": "code",
   "execution_count": 2,
   "metadata": {},
   "outputs": [],
   "source": [
    "Data = []\n",
    "Label = []\n",
    "\n",
    "pad1d = lambda a,i : a[0:i] if a.shape[0] > i else np.hstack((a, np.zeros(i - a.shape[0])))\n",
    "pad2d = lambda a,i : a[:, 0:i] if a.shape[1] > i else np.hstack((a, np.zeros((a.shape[0], i - a.shape[1]))))"
   ]
  },
  {
   "cell_type": "code",
   "execution_count": 23,
   "metadata": {},
   "outputs": [],
   "source": [
    "DATA_DIR = 'C:/Users/ADmin/Desktop/train/audio/'\n",
    "num = {'zero/' : 0,'one/' : 1,'two/' : 2,'three/' : 3,'four/' : 4,'five/' : 5,'six/' : 6,'seven/' : 7,'eight/' : 8,'nine/' : 9}\n",
    "\n",
    "for n_folder,n in num.items():\n",
    "    for fname in os.listdir(DATA_DIR + n_folder):\n",
    "        wav, _ = librosa.load(DATA_DIR + n_folder + fname)\n",
    "\n",
    "        Data.append(wav)\n",
    "        Label.append(n)"
   ]
  },
  {
   "cell_type": "code",
   "execution_count": 24,
   "metadata": {},
   "outputs": [],
   "source": [
    "X_train, X_valid, y_train, y_valid = train_test_split(Data, Label, test_size = 0.2,random_state = 123, shuffle = True, stratify = Label)"
   ]
  },
  {
   "cell_type": "code",
   "execution_count": 39,
   "metadata": {},
   "outputs": [],
   "source": [
    "train_X = []\n",
    "train_mfccs = []\n",
    "train_y = []\n",
    "\n",
    "#STFT한것, CNN분석하기 위해 Spectrogram으로 만든 것, MF한것, mel-spectorgram한것\n",
    "\n",
    "for i in range(len(X_train)):\n",
    "    wav = X_train[i]\n",
    "    label = y_train[i]\n",
    "\n",
    "    padded_x = pad1d(wav, 30000)\n",
    "\n",
    "    mfcc = librosa.feature.mfcc(wav)\n",
    "    padded_mfcc = pad2d(mfcc,200)\n",
    "\n",
    "    train_X.append(padded_x)\n",
    "    train_mfccs.append(padded_mfcc) \n",
    "    train_y.append(label)\n",
    "\n",
    "valid_X = []\n",
    "valid_mfccs = []\n",
    "valid_y = []\n",
    "\n",
    "for i in range(len(X_valid)):\n",
    "    wav = X_valid[i]\n",
    "    label = y_valid[i]\n",
    "\n",
    "    padded_x = pad1d(wav, 30000)\n",
    "\n",
    "    mfcc = librosa.feature.mfcc(wav)\n",
    "    padded_mfcc = pad2d(mfcc,200)\n",
    "\n",
    "    valid_X.append(padded_x)\n",
    "    valid_mfccs.append(padded_mfcc) \n",
    "    valid_y.append(label)"
   ]
  },
  {
   "cell_type": "code",
   "execution_count": 40,
   "metadata": {},
   "outputs": [
    {
     "name": "stdout",
     "output_type": "stream",
     "text": [
      "train_X:  torch.Size([19412, 30000])\n",
      "train_mfccs:  torch.Size([19412, 1, 20, 200])\n",
      "train_y:  torch.Size([19412])\n",
      "----------------------------------\n",
      "valid_X:  torch.Size([4854, 30000])\n",
      "valid_mfccs:  torch.Size([4854, 1, 20, 200])\n",
      "valid_y:  torch.Size([4854])\n"
     ]
    }
   ],
   "source": [
    "train_X = torch.cuda.FloatTensor(train_X)\n",
    "train_mfccs = torch.cuda.FloatTensor(train_mfccs)\n",
    "train_y = torch.cuda.LongTensor(train_y)\n",
    "\n",
    "train_mfccs = train_mfccs.unsqueeze(1)\n",
    "\n",
    "valid_X = torch.cuda.FloatTensor(valid_X)\n",
    "valid_mfccs = torch.cuda.FloatTensor(valid_mfccs)\n",
    "valid_y = torch.cuda.LongTensor(valid_y)\n",
    "\n",
    "valid_mfccs = valid_mfccs.unsqueeze(1)\n",
    "\n",
    "print('train_X: ', train_X.shape)\n",
    "print('train_mfccs: ', train_mfccs.shape)\n",
    "print('train_y: ', train_y.shape)\n",
    "print('----------------------------------')\n",
    "print(\"valid_X: \", valid_X.shape)\n",
    "print(\"valid_mfccs: \", valid_mfccs.shape)\n",
    "print(\"valid_y: \", valid_y.shape)"
   ]
  },
  {
   "cell_type": "code",
   "execution_count": 41,
   "metadata": {},
   "outputs": [],
   "source": [
    "train_data = TensorDataset(train_mfccs, train_y)\n",
    "train_data = DataLoader(train_data, batch_size=40, drop_last=False, shuffle=True)\n",
    "\n",
    "valid_data = TensorDataset(valid_mfccs, valid_y)\n",
    "valid_data = DataLoader(valid_data, batch_size=40, drop_last=False, shuffle=True)"
   ]
  },
  {
   "cell_type": "code",
   "execution_count": 42,
   "metadata": {},
   "outputs": [
    {
     "data": {
      "text/plain": [
       "19412"
      ]
     },
     "execution_count": 42,
     "metadata": {},
     "output_type": "execute_result"
    }
   ],
   "source": [
    "len(train_data.dataset)"
   ]
  },
  {
   "cell_type": "code",
   "execution_count": 54,
   "metadata": {},
   "outputs": [],
   "source": [
    "use_cuda = torch.cuda.is_available()\n",
    "\n",
    "class CNNClassifier(nn.Module):\n",
    "    \n",
    "    def __init__(self):\n",
    "        super(CNNClassifier, self).__init__()\n",
    "        conv1 = nn.Conv2d(1, 32, 2) # 1@20*200 -> 32@19*199\n",
    "        pool1 = nn.MaxPool2d(2,2) # 32@9*99\n",
    "        conv2 = nn.Conv2d(32, 64, 2) # 32@9*99 -> 64@8*98\n",
    "        conv2_bn = nn.BatchNorm2d(64)\n",
    "        pool2 = nn.MaxPool2d(2,2) # 64@8*98 -> 64@4*49\n",
    "        conv3 = nn.Conv2d(64, 128, 2) # 64@4*49 -> 128@3*48\n",
    "        conv3_bn = nn.BatchNorm2d(128)\n",
    "        pool3 = nn.MaxPool2d(2,2) # 128@3*48 -> 128@1*24\n",
    "        \n",
    "        self.conv_module = nn.Sequential(\n",
    "            conv1,\n",
    "            nn.ReLU(),\n",
    "            pool1,\n",
    "            conv2,\n",
    "            conv2_bn,\n",
    "            nn.ReLU(),\n",
    "            pool2,\n",
    "            conv3,\n",
    "            conv3_bn,\n",
    "            nn.ReLU(),\n",
    "            pool3\n",
    "        )\n",
    "        \n",
    "        fc1 = nn.Linear(128*1*24, 64)\n",
    "        fc1_bn = nn.BatchNorm1d(64)\n",
    "        fc2 = nn.Linear(64, 32)\n",
    "        fc2_bn = nn.BatchNorm1d(32)\n",
    "        fc3 = nn.Linear(32, 10)\n",
    "        \n",
    "        self.fc_module = nn.Sequential(\n",
    "            fc1,\n",
    "            fc1_bn,\n",
    "            nn.ReLU(),\n",
    "            fc2,\n",
    "            fc2_bn,\n",
    "            nn.ReLU(),\n",
    "            fc3\n",
    "        )\n",
    "        \n",
    "    def forward(self, x):\n",
    "        out = self.conv_module(x) # @128*254*7\n",
    "        dim = 1\n",
    "        for d in out.size()[1:]:\n",
    "            dim = dim * d\n",
    "        out = out.view(-1, dim)\n",
    "        out = self.fc_module(out)\n",
    "        return F.softmax(out, dim=1)"
   ]
  },
  {
   "cell_type": "code",
   "execution_count": 55,
   "metadata": {},
   "outputs": [
    {
     "name": "stdout",
     "output_type": "stream",
     "text": [
      "----------------------------------------------------------------\n",
      "        Layer (type)               Output Shape         Param #\n",
      "================================================================\n",
      "            Conv2d-1          [-1, 32, 19, 199]             160\n",
      "              ReLU-2          [-1, 32, 19, 199]               0\n",
      "         MaxPool2d-3            [-1, 32, 9, 99]               0\n",
      "            Conv2d-4            [-1, 64, 8, 98]           8,256\n",
      "       BatchNorm2d-5            [-1, 64, 8, 98]             128\n",
      "              ReLU-6            [-1, 64, 8, 98]               0\n",
      "         MaxPool2d-7            [-1, 64, 4, 49]               0\n",
      "            Conv2d-8           [-1, 128, 3, 48]          32,896\n",
      "       BatchNorm2d-9           [-1, 128, 3, 48]             256\n",
      "             ReLU-10           [-1, 128, 3, 48]               0\n",
      "        MaxPool2d-11           [-1, 128, 1, 24]               0\n",
      "           Linear-12                   [-1, 64]         196,672\n",
      "      BatchNorm1d-13                   [-1, 64]             128\n",
      "             ReLU-14                   [-1, 64]               0\n",
      "           Linear-15                   [-1, 32]           2,080\n",
      "      BatchNorm1d-16                   [-1, 32]              64\n",
      "             ReLU-17                   [-1, 32]               0\n",
      "           Linear-18                   [-1, 10]             330\n",
      "================================================================\n",
      "Total params: 240,970\n",
      "Trainable params: 240,970\n",
      "Non-trainable params: 0\n",
      "----------------------------------------------------------------\n",
      "Input size (MB): 0.02\n",
      "Forward/backward pass size (MB): 3.76\n",
      "Params size (MB): 0.92\n",
      "Estimated Total Size (MB): 4.69\n",
      "----------------------------------------------------------------\n"
     ]
    }
   ],
   "source": [
    "from torchsummary import summary # from torch.autograd import Variable\n",
    "\n",
    "cnn = CNNClassifier().cuda()\n",
    "input_size = (1, 20, 200)\n",
    "summary(cnn, input_size) #mfcc - input size"
   ]
  },
  {
   "cell_type": "code",
   "execution_count": 56,
   "metadata": {},
   "outputs": [
    {
     "name": "stdout",
     "output_type": "stream",
     "text": [
      "epoch: 1/30 | step: 486/486 | trn loss: 0.0482 | val loss: 0.0428\n",
      "epoch: 2/30 | step: 486/486 | trn loss: 0.0405 | val loss: 0.0399\n",
      "epoch: 3/30 | step: 486/486 | trn loss: 0.0391 | val loss: 0.0393\n",
      "epoch: 4/30 | step: 486/486 | trn loss: 0.0387 | val loss: 0.0390\n",
      "epoch: 5/30 | step: 486/486 | trn loss: 0.0384 | val loss: 0.0389\n",
      "epoch: 6/30 | step: 486/486 | trn loss: 0.0381 | val loss: 0.0387\n",
      "epoch: 7/30 | step: 486/486 | trn loss: 0.0380 | val loss: 0.0386\n",
      "epoch: 8/30 | step: 486/486 | trn loss: 0.0379 | val loss: 0.0384\n",
      "epoch: 9/30 | step: 486/486 | trn loss: 0.0378 | val loss: 0.0386\n",
      "epoch: 10/30 | step: 486/486 | trn loss: 0.0377 | val loss: 0.0386\n",
      "epoch: 11/30 | step: 486/486 | trn loss: 0.0377 | val loss: 0.0384\n",
      "epoch: 12/30 | step: 486/486 | trn loss: 0.0376 | val loss: 0.0386\n",
      "epoch: 13/30 | step: 486/486 | trn loss: 0.0375 | val loss: 0.0385\n",
      "epoch: 14/30 | step: 486/486 | trn loss: 0.0375 | val loss: 0.0385\n",
      "epoch: 15/30 | step: 486/486 | trn loss: 0.0374 | val loss: 0.0384\n",
      "epoch: 16/30 | step: 486/486 | trn loss: 0.0374 | val loss: 0.0382\n",
      "epoch: 17/30 | step: 486/486 | trn loss: 0.0374 | val loss: 0.0382\n",
      "epoch: 18/30 | step: 486/486 | trn loss: 0.0373 | val loss: 0.0383\n",
      "epoch: 19/30 | step: 486/486 | trn loss: 0.0373 | val loss: 0.0382\n",
      "epoch: 20/30 | step: 486/486 | trn loss: 0.0372 | val loss: 0.0383\n",
      "epoch: 21/30 | step: 486/486 | trn loss: 0.0372 | val loss: 0.0382\n",
      "epoch: 22/30 | step: 486/486 | trn loss: 0.0372 | val loss: 0.0384\n",
      "epoch: 23/30 | step: 486/486 | trn loss: 0.0371 | val loss: 0.0383\n",
      "epoch: 24/30 | step: 486/486 | trn loss: 0.0372 | val loss: 0.0382\n",
      "epoch: 25/30 | step: 486/486 | trn loss: 0.0371 | val loss: 0.0381\n",
      "epoch: 26/30 | step: 486/486 | trn loss: 0.0371 | val loss: 0.0383\n",
      "epoch: 27/30 | step: 486/486 | trn loss: 0.0371 | val loss: 0.0381\n",
      "epoch: 28/30 | step: 486/486 | trn loss: 0.0371 | val loss: 0.0382\n",
      "epoch: 29/30 | step: 486/486 | trn loss: 0.0371 | val loss: 0.0381\n",
      "epoch: 30/30 | step: 486/486 | trn loss: 0.0371 | val loss: 0.0382\n",
      "Accuracy of the network on the train audio: 95.300330 %\n",
      "Accuracy of the network on the test audio: 93.331960 %\n"
     ]
    }
   ],
   "source": [
    "criterion = nn.CrossEntropyLoss()\n",
    "learning_rate = 0.0005\n",
    "optimizer = optim.Adam(cnn.parameters(), lr=learning_rate)\n",
    "\n",
    "num_epochs = 30\n",
    "num_batches = len(train_data)\n",
    "\n",
    "train_loss_list = []\n",
    "valid_loss_list = []\n",
    "train_accuracy = []\n",
    "valid_accuracy = []\n",
    "\n",
    "train_total = 0\n",
    "train_correct = 0\n",
    "train_incorrect = 0\n",
    "valid_total = 0\n",
    "valid_correct = 0\n",
    "valid_incorrect = 0\n",
    "\n",
    "for epoch in range(num_epochs):\n",
    "    \n",
    "    train_loss = 0.0\n",
    "    for i, data in enumerate(train_data):\n",
    "        x, label = data\n",
    "\n",
    "        if use_cuda:\n",
    "            x = x.cuda()\n",
    "            label = label.cuda()\n",
    "\n",
    "        optimizer.zero_grad()\n",
    "        model_output = cnn(x)\n",
    "        loss = criterion(model_output, label)\n",
    "        loss.backward()\n",
    "        optimizer.step()\n",
    "        \n",
    "        train_loss += loss.item()/len(train_data.dataset)\n",
    "        del loss\n",
    "        \n",
    "        for ix in range(len(model_output)):\n",
    "            if torch.argmax(model_output[ix]).item() == label[ix].item():\n",
    "                train_correct += 1\n",
    "            else:\n",
    "                train_incorrect += 1\n",
    "        \n",
    "        if (i+1) % num_batches == 0:\n",
    "            with torch.no_grad():\n",
    "                valid_loss = 0.0\n",
    "                for j, valid in enumerate(valid_data):\n",
    "                    valid_x, valid_label = valid\n",
    "                    if use_cuda:\n",
    "                        valid_x = valid_x.cuda()\n",
    "                        valid_label = valid_label.cuda()\n",
    "                    valid_output = cnn(valid_x)\n",
    "                    v_loss = criterion(valid_output, valid_label)\n",
    "                    valid_loss += v_loss/len(valid_data.dataset)\n",
    "                    \n",
    "                    for idx in range(len(valid_output)):\n",
    "                        if torch.argmax(valid_output[idx]).item() == valid_label[idx].item():\n",
    "                            valid_correct += 1\n",
    "                        else:\n",
    "                            valid_incorrect += 1                  \n",
    "\n",
    "            print(\"epoch: {}/{} | step: {}/{} | trn loss: {:.4f} | val loss: {:.4f}\".format(\n",
    "                epoch+1, num_epochs, i+1, num_batches, train_loss, valid_loss\n",
    "            ))            \n",
    "            \n",
    "            train_loss_list.append(train_loss)\n",
    "            valid_loss_list.append(valid_loss)\n",
    "            train_loss = 0.0\n",
    "    train_accuracy.append((train_correct/(train_correct+train_incorrect))*100)\n",
    "    valid_accuracy.append((valid_correct/(valid_correct+valid_incorrect))*100)\n",
    "\n",
    "print('Accuracy of the network on the train audio: %f %%' % (train_accuracy[-1]))\n",
    "print('Accuracy of the network on the test audio: %f %%' % (valid_accuracy[-1]))"
   ]
  },
  {
   "cell_type": "code",
   "execution_count": 57,
   "metadata": {},
   "outputs": [
    {
     "data": {
      "text/plain": [
       "<matplotlib.legend.Legend at 0x127d3d0d630>"
      ]
     },
     "execution_count": 57,
     "metadata": {},
     "output_type": "execute_result"
    },
    {
     "data": {
      "image/png": "[encoded data removed]",
      "text/plain": [
       "<Figure size 720x288 with 1 Axes>"
      ]
     },
     "metadata": {
      "needs_background": "light"
     },
     "output_type": "display_data"
    }
   ],
   "source": [
    "plt.rcParams[\"figure.figsize\"] = (10,4)\n",
    "plt.plot(train_accuracy, label = 'Train Loss')\n",
    "plt.plot(valid_accuracy, label = 'Validaton Loss')\n",
    "plt.xlabel('Epochs')\n",
    "plt.ylabel('Loss')\n",
    "plt.legend()"
   ]
  },
  {
   "cell_type": "code",
   "execution_count": 58,
   "metadata": {},
   "outputs": [
    {
     "name": "stdout",
     "output_type": "stream",
     "text": [
      "cnn's state_dict:\n",
      "conv_module.0.weight \t torch.Size([32, 1, 2, 2])\n",
      "conv_module.0.bias \t torch.Size([32])\n",
      "conv_module.3.weight \t torch.Size([64, 32, 2, 2])\n",
      "conv_module.3.bias \t torch.Size([64])\n",
      "conv_module.4.weight \t torch.Size([64])\n",
      "conv_module.4.bias \t torch.Size([64])\n",
      "conv_module.4.running_mean \t torch.Size([64])\n",
      "conv_module.4.running_var \t torch.Size([64])\n",
      "conv_module.4.num_batches_tracked \t torch.Size([])\n",
      "conv_module.7.weight \t torch.Size([128, 64, 2, 2])\n",
      "conv_module.7.bias \t torch.Size([128])\n",
      "conv_module.8.weight \t torch.Size([128])\n",
      "conv_module.8.bias \t torch.Size([128])\n",
      "conv_module.8.running_mean \t torch.Size([128])\n",
      "conv_module.8.running_var \t torch.Size([128])\n",
      "conv_module.8.num_batches_tracked \t torch.Size([])\n",
      "fc_module.0.weight \t torch.Size([64, 3072])\n",
      "fc_module.0.bias \t torch.Size([64])\n",
      "fc_module.1.weight \t torch.Size([64])\n",
      "fc_module.1.bias \t torch.Size([64])\n",
      "fc_module.1.running_mean \t torch.Size([64])\n",
      "fc_module.1.running_var \t torch.Size([64])\n",
      "fc_module.1.num_batches_tracked \t torch.Size([])\n",
      "fc_module.3.weight \t torch.Size([32, 64])\n",
      "fc_module.3.bias \t torch.Size([32])\n",
      "fc_module.4.weight \t torch.Size([32])\n",
      "fc_module.4.bias \t torch.Size([32])\n",
      "fc_module.4.running_mean \t torch.Size([32])\n",
      "fc_module.4.running_var \t torch.Size([32])\n",
      "fc_module.4.num_batches_tracked \t torch.Size([])\n",
      "fc_module.6.weight \t torch.Size([10, 32])\n",
      "fc_module.6.bias \t torch.Size([10])\n"
     ]
    }
   ],
   "source": [
    "print(\"cnn's state_dict:\")\n",
    "for param_tensor in cnn.state_dict():\n",
    "    print(param_tensor, \"\\t\", cnn.state_dict()[param_tensor].size())\n",
    "    \n",
    "#print(\"Optimizer's state_dict:\")\n",
    "#for var_name in optimizer.cnn_dict():\n",
    "#    print(var_name, \"\\t\", optimizer.cnn_dict()[var_name])"
   ]
  },
  {
   "cell_type": "code",
   "execution_count": 59,
   "metadata": {},
   "outputs": [],
   "source": [
    "torch.save(cnn.state_dict(), 'G:/2020/KIST/2. code/Python/Audio/Deep Learning/Model_1/cnn.pt')\n",
    "#cnn.load_state_dict(torch.load(\"G:\\2020\\KIST\\2. code\\Python\\Audio\\Deep Learning\\Model_1\"))\n",
    "#cnn.eval()"
   ]
  },
  {
   "cell_type": "code",
   "execution_count": null,
   "metadata": {},
   "outputs": [],
   "source": []
  }
 ],
 "metadata": {
  "kernelspec": {
   "display_name": "new_torch",
   "language": "python",
   "name": "new_torch"
  },
  "language_info": {
   "codemirror_mode": {
    "name": "ipython",
    "version": 3
   },
   "file_extension": ".py",
   "mimetype": "text/x-python",
   "name": "python",
   "nbconvert_exporter": "python",
   "pygments_lexer": "ipython3",
   "version": "3.6.10"
  }
 },
 "nbformat": 4,
 "nbformat_minor": 4
}
