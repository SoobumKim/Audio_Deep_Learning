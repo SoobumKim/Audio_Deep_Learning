{
 "cells": [
  {
   "cell_type": "code",
   "execution_count": 1,
   "metadata": {},
   "outputs": [],
   "source": [
    "%matplotlib inline\n",
    "import matplotlib.pyplot as plt\n",
    "import os\n",
    "from scipy.io import wavfile\n",
    "from collections import defaultdict, Counter\n",
    "from scipy import signal\n",
    "import numpy as np\n",
    "import random as rn\n",
    "import cv2\n",
    "\n",
    "from sklearn.model_selection import train_test_split\n",
    "\n",
    "import torch\n",
    "import torch.nn as nn\n",
    "import torch.nn.functional as F\n",
    "import torch.optim as optim\n",
    "from torch.utils.data import DataLoader, Dataset, TensorDataset\n",
    "import torchvision\n",
    "from torchvision import datasets, transforms"
   ]
  },
  {
   "cell_type": "code",
   "execution_count": 11,
   "metadata": {},
   "outputs": [],
   "source": [
    "Data = []\n",
    "Label = []\n",
    "\n",
    "DATA_DIR = 'C:/Users/ADmin/Desktop/drum/drum_small_train/'\n",
    "nfolder = ['Bass', 'Bass+Hihat', 'Bass+Ride', 'Hihat', 'Snare', 'Snare+Hihat', \\\n",
    "           'Snare+Tom_floor', 'Tom_1', 'Tom_1+Tom_floor', 'Tom_2', 'Tom_2+Tom_floor', 'Tom_floor']\n",
    "\n",
    "for var in range(len(nfolder)):\n",
    "    for fname in os.listdir(DATA_DIR + nfolder[var]):\n",
    "        img = cv2.imread(DATA_DIR + nfolder[var] + '/' + fname,cv2.IMREAD_GRAYSCALE)\n",
    "        \n",
    "        Data.append(img)\n",
    "        Label.append(nfolder.index(nfolder[var]))"
   ]
  },
  {
   "cell_type": "code",
   "execution_count": 12,
   "metadata": {},
   "outputs": [],
   "source": [
    "X_train, X_valid, y_train, y_valid = train_test_split(Data, Label, test_size = 0.2,random_state = 123, shuffle = True, stratify = Label)"
   ]
  },
  {
   "cell_type": "code",
   "execution_count": 13,
   "metadata": {},
   "outputs": [
    {
     "name": "stdout",
     "output_type": "stream",
     "text": [
      "train_X:  torch.Size([6451, 1, 30, 40])\n",
      "train_y:  torch.Size([6451])\n",
      "----------------------------------\n",
      "valid_X:  torch.Size([1613, 1, 30, 40])\n",
      "valid_y:  torch.Size([1613])\n"
     ]
    }
   ],
   "source": [
    "train_X = torch.cuda.FloatTensor(X_train)\n",
    "train_y = torch.cuda.LongTensor(y_train)\n",
    "\n",
    "train_X = train_X.unsqueeze(1)\n",
    "\n",
    "valid_X = torch.cuda.FloatTensor(X_valid)\n",
    "valid_y = torch.cuda.LongTensor(y_valid)\n",
    "\n",
    "valid_X = valid_X.unsqueeze(1)\n",
    "\n",
    "print('train_X: ', train_X.shape)\n",
    "print('train_y: ', train_y.shape)\n",
    "print('----------------------------------')\n",
    "print(\"valid_X: \", valid_X.shape)\n",
    "print(\"valid_y: \", valid_y.shape)"
   ]
  },
  {
   "cell_type": "code",
   "execution_count": 51,
   "metadata": {},
   "outputs": [],
   "source": [
    "use_cuda = torch.cuda.is_available()\n",
    "\n",
    "class CNNClassifier(nn.Module):\n",
    "    \n",
    "    def __init__(self):\n",
    "        super(CNNClassifier, self).__init__() \n",
    "        conv1 = nn.Conv2d(1, 32, 3) # 1@40*30 -> 32@38*28\n",
    "        pool1 = nn.MaxPool2d(2,2) # 32@38*28 -> 32@19*14\n",
    "        conv2 = nn.Conv2d(32, 64, 3) # 32@19*14 -> 64@17*12\n",
    "        conv2_bn = nn.BatchNorm2d(64)\n",
    "        pool2 = nn.MaxPool2d(2,2) # 64@17*12 -> 64@8*6\n",
    "        conv3 = nn.Conv2d(64, 128, 3) # 64@8*6 -> 128@6*4\n",
    "        conv3_bn = nn.BatchNorm2d(128)\n",
    "        pool3 = nn.MaxPool2d(2,2) # 128@6*4 -> 128@3*2\n",
    "        \n",
    "        self.conv_module = nn.Sequential(\n",
    "            conv1,\n",
    "            nn.ReLU(),\n",
    "            pool1,\n",
    "            conv2,\n",
    "            conv2_bn,\n",
    "            nn.ReLU(),\n",
    "            pool2,\n",
    "            conv3,\n",
    "            conv3_bn,\n",
    "            nn.ReLU(),\n",
    "            pool3\n",
    "        )\n",
    "        \n",
    "        fc1 = nn.Linear(128*3*2, 64)\n",
    "        fc1_bn = nn.BatchNorm1d(64)\n",
    "        fc2 = nn.Linear(64, 32)\n",
    "        fc2_bn = nn.BatchNorm1d(32)\n",
    "        fc3 = nn.Linear(32, 12)\n",
    "        \n",
    "        \n",
    "        self.fc_module = nn.Sequential(\n",
    "            fc1,\n",
    "            fc1_bn,\n",
    "            nn.ReLU(),\n",
    "            fc2,\n",
    "            fc2_bn,\n",
    "            nn.ReLU(),\n",
    "            fc3\n",
    "        )\n",
    "        \n",
    "    def forward(self, x):\n",
    "        out = self.conv_module(x) #128*66*46\n",
    "        dim = 1\n",
    "        for d in out.size()[1:]:\n",
    "            dim = dim * d\n",
    "        out = out.view(-1, dim)\n",
    "        out = self.fc_module(out)\n",
    "        return F.softmax(out, dim=1)"
   ]
  },
  {
   "cell_type": "code",
   "execution_count": 52,
   "metadata": {},
   "outputs": [
    {
     "name": "stdout",
     "output_type": "stream",
     "text": [
      "----------------------------------------------------------------\n",
      "        Layer (type)               Output Shape         Param #\n",
      "================================================================\n",
      "            Conv2d-1           [-1, 32, 38, 28]             320\n",
      "              ReLU-2           [-1, 32, 38, 28]               0\n",
      "         MaxPool2d-3           [-1, 32, 19, 14]               0\n",
      "            Conv2d-4           [-1, 64, 17, 12]          18,496\n",
      "       BatchNorm2d-5           [-1, 64, 17, 12]             128\n",
      "              ReLU-6           [-1, 64, 17, 12]               0\n",
      "         MaxPool2d-7             [-1, 64, 8, 6]               0\n",
      "            Conv2d-8            [-1, 128, 6, 4]          73,856\n",
      "       BatchNorm2d-9            [-1, 128, 6, 4]             256\n",
      "             ReLU-10            [-1, 128, 6, 4]               0\n",
      "        MaxPool2d-11            [-1, 128, 3, 2]               0\n",
      "           Linear-12                   [-1, 64]          49,216\n",
      "      BatchNorm1d-13                   [-1, 64]             128\n",
      "             ReLU-14                   [-1, 64]               0\n",
      "           Linear-15                   [-1, 32]           2,080\n",
      "      BatchNorm1d-16                   [-1, 32]              64\n",
      "             ReLU-17                   [-1, 32]               0\n",
      "           Linear-18                   [-1, 12]             396\n",
      "================================================================\n",
      "Total params: 144,940\n",
      "Trainable params: 144,940\n",
      "Non-trainable params: 0\n",
      "----------------------------------------------------------------\n",
      "Input size (MB): 0.00\n",
      "Forward/backward pass size (MB): 0.99\n",
      "Params size (MB): 0.55\n",
      "Estimated Total Size (MB): 1.54\n",
      "----------------------------------------------------------------\n"
     ]
    }
   ],
   "source": [
    "from torchsummary import summary # from torch.autograd import Variable\n",
    "\n",
    "cnn = CNNClassifier().cuda()\n",
    "input_size = (1, 40, 30)\n",
    "summary(cnn, input_size)"
   ]
  },
  {
   "cell_type": "code",
   "execution_count": 53,
   "metadata": {},
   "outputs": [],
   "source": [
    "train_data = TensorDataset(train_X, train_y)\n",
    "train_data = DataLoader(train_data, batch_size=120, drop_last=False, shuffle=True) #6451/25=53\n",
    "\n",
    "valid_data = TensorDataset(valid_X, valid_y)\n",
    "valid_data = DataLoader(valid_data, batch_size=120, drop_last=False, shuffle=True) #1613/120=13"
   ]
  },
  {
   "cell_type": "code",
   "execution_count": 54,
   "metadata": {},
   "outputs": [
    {
     "name": "stdout",
     "output_type": "stream",
     "text": [
      "epoch: 1/20 | step: 27/54 | trn loss: 0.0098 | val loss: 0.0197\n",
      "epoch: 1/20 | step: 54/54 | trn loss: 0.0093 | val loss: 0.0188\n",
      "epoch: 2/20 | step: 27/54 | trn loss: 0.0089 | val loss: 0.0180\n",
      "epoch: 2/20 | step: 54/54 | trn loss: 0.0086 | val loss: 0.0174\n",
      "epoch: 3/20 | step: 27/54 | trn loss: 0.0083 | val loss: 0.0169\n",
      "epoch: 3/20 | step: 54/54 | trn loss: 0.0081 | val loss: 0.0167\n",
      "epoch: 4/20 | step: 27/54 | trn loss: 0.0079 | val loss: 0.0163\n",
      "epoch: 4/20 | step: 54/54 | trn loss: 0.0078 | val loss: 0.0159\n",
      "epoch: 5/20 | step: 27/54 | trn loss: 0.0076 | val loss: 0.0155\n",
      "epoch: 5/20 | step: 54/54 | trn loss: 0.0074 | val loss: 0.0153\n",
      "epoch: 6/20 | step: 27/54 | trn loss: 0.0073 | val loss: 0.0151\n",
      "epoch: 6/20 | step: 54/54 | trn loss: 0.0072 | val loss: 0.0148\n",
      "epoch: 7/20 | step: 27/54 | trn loss: 0.0071 | val loss: 0.0146\n",
      "epoch: 7/20 | step: 54/54 | trn loss: 0.0070 | val loss: 0.0145\n",
      "epoch: 8/20 | step: 27/54 | trn loss: 0.0070 | val loss: 0.0144\n",
      "epoch: 8/20 | step: 54/54 | trn loss: 0.0069 | val loss: 0.0143\n",
      "epoch: 9/20 | step: 27/54 | trn loss: 0.0069 | val loss: 0.0143\n",
      "epoch: 9/20 | step: 54/54 | trn loss: 0.0069 | val loss: 0.0143\n",
      "epoch: 10/20 | step: 27/54 | trn loss: 0.0069 | val loss: 0.0142\n",
      "epoch: 10/20 | step: 54/54 | trn loss: 0.0069 | val loss: 0.0142\n",
      "epoch: 11/20 | step: 27/54 | trn loss: 0.0069 | val loss: 0.0142\n",
      "epoch: 11/20 | step: 54/54 | trn loss: 0.0068 | val loss: 0.0142\n",
      "epoch: 12/20 | step: 27/54 | trn loss: 0.0068 | val loss: 0.0142\n",
      "epoch: 12/20 | step: 54/54 | trn loss: 0.0068 | val loss: 0.0142\n",
      "epoch: 13/20 | step: 27/54 | trn loss: 0.0068 | val loss: 0.0142\n",
      "epoch: 13/20 | step: 54/54 | trn loss: 0.0068 | val loss: 0.0141\n",
      "epoch: 14/20 | step: 27/54 | trn loss: 0.0068 | val loss: 0.0141\n",
      "epoch: 14/20 | step: 54/54 | trn loss: 0.0068 | val loss: 0.0141\n",
      "epoch: 15/20 | step: 27/54 | trn loss: 0.0068 | val loss: 0.0141\n",
      "epoch: 15/20 | step: 54/54 | trn loss: 0.0068 | val loss: 0.0141\n",
      "epoch: 16/20 | step: 27/54 | trn loss: 0.0068 | val loss: 0.0141\n",
      "epoch: 16/20 | step: 54/54 | trn loss: 0.0068 | val loss: 0.0141\n",
      "epoch: 17/20 | step: 27/54 | trn loss: 0.0068 | val loss: 0.0141\n",
      "epoch: 17/20 | step: 54/54 | trn loss: 0.0068 | val loss: 0.0141\n",
      "epoch: 18/20 | step: 27/54 | trn loss: 0.0068 | val loss: 0.0141\n",
      "epoch: 18/20 | step: 54/54 | trn loss: 0.0068 | val loss: 0.0141\n",
      "epoch: 19/20 | step: 27/54 | trn loss: 0.0068 | val loss: 0.0141\n",
      "epoch: 19/20 | step: 54/54 | trn loss: 0.0068 | val loss: 0.0141\n",
      "epoch: 20/20 | step: 27/54 | trn loss: 0.0068 | val loss: 0.0141\n",
      "epoch: 20/20 | step: 54/54 | trn loss: 0.0068 | val loss: 0.0141\n",
      "Accuracy of the network on the train audio: 100.000000 %\n",
      "Accuracy of the network on the validation audio: 100.000000 %\n"
     ]
    }
   ],
   "source": [
    "criterion = nn.CrossEntropyLoss()\n",
    "learning_rate = 0.0005\n",
    "optimizer = optim.Adam(cnn.parameters(), lr=learning_rate)\n",
    "\n",
    "num_epochs = 20\n",
    "num_batches = len(train_data)\n",
    "\n",
    "train_loss_list = []\n",
    "valid_loss_list = []\n",
    "train_accuracy = []\n",
    "valid_accuracy = []\n",
    "train_loss = 0.0\n",
    "\n",
    "for epoch in range(num_epochs):\n",
    "    \n",
    "    train_correct = 0\n",
    "    train_incorrect = 0\n",
    "    valid_correct = 0\n",
    "    valid_incorrect = 0\n",
    "    \n",
    "    for i, data in enumerate(train_data):\n",
    "        x, label = data\n",
    "\n",
    "        if use_cuda:\n",
    "            x = x.cuda()\n",
    "            label = label.cuda()\n",
    "\n",
    "        optimizer.zero_grad()\n",
    "        model_output = cnn(x)\n",
    "        loss = criterion(model_output, label)\n",
    "        loss.backward()\n",
    "        optimizer.step()\n",
    "        \n",
    "        train_loss += loss.item()/len(train_data.dataset)\n",
    "        del loss\n",
    "        \n",
    "        for ix in range(len(model_output)):\n",
    "            if torch.argmax(model_output[ix]).item() == label[ix].item():\n",
    "                train_correct += 1\n",
    "            else:\n",
    "                train_incorrect += 1\n",
    "        \n",
    "        if (i+1) % (num_batches/4) == 0:\n",
    "            with torch.no_grad():\n",
    "                valid_loss = 0.0\n",
    "                for j, valid in enumerate(valid_data):\n",
    "                    valid_x, valid_label = valid\n",
    "                    if use_cuda:\n",
    "                        valid_x = valid_x.cuda()\n",
    "                        valid_label = valid_label.cuda()\n",
    "                    valid_output = cnn(valid_x)\n",
    "                    v_loss = criterion(valid_output, valid_label)\n",
    "                    valid_loss += v_loss/len(valid_data.dataset)\n",
    "                    \n",
    "                    for idx in range(len(valid_output)):\n",
    "                        if torch.argmax(valid_output[idx]).item() == valid_label[idx].item():\n",
    "                            valid_correct += 1\n",
    "                        else:\n",
    "                            valid_incorrect += 1                  \n",
    "\n",
    "            print(\"epoch: {}/{} | step: {}/{} | trn loss: {:.4f} | val loss: {:.4f}\".format(\n",
    "                epoch+1, num_epochs, i+1, num_batches, train_loss, valid_loss\n",
    "            ))            \n",
    "            \n",
    "            train_loss_list.append(train_loss)\n",
    "            valid_loss_list.append(valid_loss)\n",
    "            train_loss = 0.0\n",
    "    train_accuracy.append((train_correct/(train_correct+train_incorrect))*100)\n",
    "    valid_accuracy.append((valid_correct/(valid_correct+valid_incorrect))*100)\n",
    "\n",
    "print('Accuracy of the network on the train audio: %f %%' % (train_accuracy[-1]))\n",
    "print('Accuracy of the network on the validation audio: %f %%' % (valid_accuracy[-1]))"
   ]
  },
  {
   "cell_type": "code",
   "execution_count": 55,
   "metadata": {},
   "outputs": [
    {
     "data": {
      "text/plain": [
       "<matplotlib.legend.Legend at 0x2160d19e860>"
      ]
     },
     "execution_count": 55,
     "metadata": {},
     "output_type": "execute_result"
    },
    {
     "data": {
      "image/png": "[encoded data removed]",
      "text/plain": [
       "<Figure size 720x288 with 1 Axes>"
      ]
     },
     "metadata": {
      "needs_background": "light"
     },
     "output_type": "display_data"
    }
   ],
   "source": [
    "plt.rcParams[\"figure.figsize\"] = (10,4)\n",
    "plt.plot(train_accuracy, label = 'Train Accuracy')\n",
    "plt.plot(valid_accuracy, label = 'Validaton Accuracy')\n",
    "plt.xlabel('Epochs')\n",
    "plt.ylabel('Accuracy')\n",
    "plt.legend()"
   ]
  },
  {
   "cell_type": "code",
   "execution_count": 26,
   "metadata": {},
   "outputs": [
    {
     "name": "stdout",
     "output_type": "stream",
     "text": [
      "cnn's state_dict:\n",
      "conv_module.0.weight \t torch.Size([32, 1, 3, 3])\n",
      "conv_module.0.bias \t torch.Size([32])\n",
      "conv_module.3.weight \t torch.Size([64, 32, 3, 3])\n",
      "conv_module.3.bias \t torch.Size([64])\n",
      "conv_module.4.weight \t torch.Size([64])\n",
      "conv_module.4.bias \t torch.Size([64])\n",
      "conv_module.4.running_mean \t torch.Size([64])\n",
      "conv_module.4.running_var \t torch.Size([64])\n",
      "conv_module.4.num_batches_tracked \t torch.Size([])\n",
      "conv_module.7.weight \t torch.Size([128, 64, 3, 3])\n",
      "conv_module.7.bias \t torch.Size([128])\n",
      "conv_module.8.weight \t torch.Size([128])\n",
      "conv_module.8.bias \t torch.Size([128])\n",
      "conv_module.8.running_mean \t torch.Size([128])\n",
      "conv_module.8.running_var \t torch.Size([128])\n",
      "conv_module.8.num_batches_tracked \t torch.Size([])\n",
      "fc_module.0.weight \t torch.Size([64, 768])\n",
      "fc_module.0.bias \t torch.Size([64])\n",
      "fc_module.1.weight \t torch.Size([64])\n",
      "fc_module.1.bias \t torch.Size([64])\n",
      "fc_module.1.running_mean \t torch.Size([64])\n",
      "fc_module.1.running_var \t torch.Size([64])\n",
      "fc_module.1.num_batches_tracked \t torch.Size([])\n",
      "fc_module.3.weight \t torch.Size([32, 64])\n",
      "fc_module.3.bias \t torch.Size([32])\n",
      "fc_module.4.weight \t torch.Size([32])\n",
      "fc_module.4.bias \t torch.Size([32])\n",
      "fc_module.4.running_mean \t torch.Size([32])\n",
      "fc_module.4.running_var \t torch.Size([32])\n",
      "fc_module.4.num_batches_tracked \t torch.Size([])\n",
      "fc_module.6.weight \t torch.Size([12, 32])\n",
      "fc_module.6.bias \t torch.Size([12])\n"
     ]
    }
   ],
   "source": [
    "print(\"cnn's state_dict:\")\n",
    "for param_tensor in cnn.state_dict():\n",
    "    print(param_tensor, \"\\t\", cnn.state_dict()[param_tensor].size())\n",
    "    \n",
    "#print(\"Optimizer's state_dict:\")\n",
    "#for var_name in optimizer.cnn_dict():\n",
    "#    print(var_name, \"\\t\", optimizer.cnn_dict()[var_name])"
   ]
  },
  {
   "cell_type": "code",
   "execution_count": 27,
   "metadata": {},
   "outputs": [],
   "source": [
    "torch.save(cnn.state_dict(), 'G:/2020/KIST/2. code/Python/Audio/Deep Learning/Model_1/cnn_music_sheet.pt')\n",
    "#cnn.load_state_dict(torch.load(\"G:\\2020\\KIST\\2. code\\Python\\Audio\\Deep Learning\\Model_1\"))\n",
    "#cnn.eval()"
   ]
  },
  {
   "cell_type": "code",
   "execution_count": 129,
   "metadata": {
    "collapsed": true
   },
   "outputs": [
    {
     "data": {
      "text/plain": [
       "<All keys matched successfully>"
      ]
     },
     "execution_count": 129,
     "metadata": {},
     "output_type": "execute_result"
    }
   ],
   "source": [
    "#cnn.load_state_dict(torch.load(\"G:/2020/KIST/2. code/Python/Audio/Deep Learning/Model_1/cnn_music_sheet.pt\"))"
   ]
  },
  {
   "cell_type": "code",
   "execution_count": 29,
   "metadata": {
    "collapsed": true
   },
   "outputs": [
    {
     "data": {
      "text/plain": [
       "CNNClassifier(\n",
       "  (conv_module): Sequential(\n",
       "    (0): Conv2d(1, 32, kernel_size=(5, 5), stride=(1, 1))\n",
       "    (1): ReLU()\n",
       "    (2): MaxPool2d(kernel_size=2, stride=2, padding=0, dilation=1, ceil_mode=False)\n",
       "    (3): Conv2d(32, 64, kernel_size=(5, 5), stride=(1, 1))\n",
       "    (4): BatchNorm2d(64, eps=1e-05, momentum=0.1, affine=True, track_running_stats=True)\n",
       "    (5): ReLU()\n",
       "    (6): MaxPool2d(kernel_size=2, stride=2, padding=0, dilation=1, ceil_mode=False)\n",
       "    (7): Conv2d(64, 128, kernel_size=(5, 5), stride=(1, 1))\n",
       "    (8): BatchNorm2d(128, eps=1e-05, momentum=0.1, affine=True, track_running_stats=True)\n",
       "    (9): ReLU()\n",
       "    (10): MaxPool2d(kernel_size=2, stride=2, padding=0, dilation=1, ceil_mode=False)\n",
       "  )\n",
       "  (fc_module): Sequential(\n",
       "    (0): Linear(in_features=9856, out_features=64, bias=True)\n",
       "    (1): BatchNorm1d(64, eps=1e-05, momentum=0.1, affine=True, track_running_stats=True)\n",
       "    (2): ReLU()\n",
       "    (3): Linear(in_features=64, out_features=32, bias=True)\n",
       "    (4): BatchNorm1d(32, eps=1e-05, momentum=0.1, affine=True, track_running_stats=True)\n",
       "    (5): ReLU()\n",
       "    (6): Linear(in_features=32, out_features=12, bias=True)\n",
       "  )\n",
       ")"
      ]
     },
     "execution_count": 29,
     "metadata": {},
     "output_type": "execute_result"
    }
   ],
   "source": [
    "#cnn.eval()"
   ]
  },
  {
   "cell_type": "code",
   "execution_count": null,
   "metadata": {},
   "outputs": [],
   "source": []
  }
 ],
 "metadata": {
  "kernelspec": {
   "display_name": "new_torch",
   "language": "python",
   "name": "new_torch"
  },
  "language_info": {
   "codemirror_mode": {
    "name": "ipython",
    "version": 3
   },
   "file_extension": ".py",
   "mimetype": "text/x-python",
   "name": "python",
   "nbconvert_exporter": "python",
   "pygments_lexer": "ipython3",
   "version": "3.6.10"
  }
 },
 "nbformat": 4,
 "nbformat_minor": 4
}
