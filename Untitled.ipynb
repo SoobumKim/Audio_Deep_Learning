{
 "cells": [
  {
   "cell_type": "code",
   "execution_count": 8,
   "metadata": {},
   "outputs": [],
   "source": [
    "import torch\n",
    "import torchvision\n",
    "import torchvision.transforms as transforms\n",
    "import cv2\n",
    "import os\n",
    "from sklearn.model_selection import train_test_split"
   ]
  },
  {
   "cell_type": "code",
   "execution_count": null,
   "metadata": {},
   "outputs": [],
   "source": [
    "transform = transforms.Compose(\n",
    "    [transforms.ToTensor(),\n",
    "     transforms.Normalize((0.5, 0.5, 0.5), (0.5, 0.5, 0.5))])\n",
    "\n",
    "trainset = torchvision.datasets.CIFAR10(root='./data', train=True,\n",
    "                                        download=True, transform=transform)\n",
    "trainloader = torch.utils.data.DataLoader(trainset, batch_size=4,\n",
    "                                          shuffle=True, num_workers=2)\n",
    "\n",
    "testset = torchvision.datasets.CIFAR10(root='./data', train=False,\n",
    "                                       download=True, transform=transform)\n",
    "testloader = torch.utils.data.DataLoader(testset, batch_size=4,\n",
    "                                         shuffle=False, num_workers=2)\n",
    "\n",
    "classes = ('plane', 'car', 'bird', 'cat',\n",
    "           'deer', 'dog', 'frog', 'horse', 'ship', 'truck')"
   ]
  },
  {
   "cell_type": "code",
   "execution_count": 6,
   "metadata": {},
   "outputs": [],
   "source": [
    "Data = []\n",
    "Label = []\n",
    "\n",
    "DATA_DIR = 'C:/Users/ADmin/Desktop/drum_small_train/'\n",
    "nfolder = ['Bass', 'Bass+Hihat', 'Bass+Ride', 'Hihat', 'Snare', 'Snare+Hihat', \\\n",
    "           'Snare+Tom_floor', 'Tom_1', 'Tom_1+Tom_floor', 'Tom_2', 'Tom_2+Tom_floor', 'Tom_floor']\n",
    "\n",
    "for var in range(len(nfolder)):\n",
    "    for fname in os.listdir(DATA_DIR + nfolder[var]):\n",
    "        img = cv2.imread(DATA_DIR + nfolder[var] + '/' + fname,cv2.IMREAD_GRAYSCALE)\n",
    "        \n",
    "        Data.append(img)\n",
    "        Label.append(nfolder.index(nfolder[var]))"
   ]
  },
  {
   "cell_type": "code",
   "execution_count": 9,
   "metadata": {},
   "outputs": [],
   "source": [
    "X_train, X_valid, y_train, y_valid = train_test_split(Data, Label, test_size = 0.2,random_state = 123, shuffle = True, stratify = Label)"
   ]
  },
  {
   "cell_type": "code",
   "execution_count": 10,
   "metadata": {},
   "outputs": [
    {
     "name": "stdout",
     "output_type": "stream",
     "text": [
      "train_X:  torch.Size([6451, 1, 30, 40])\n",
      "train_y:  torch.Size([6451])\n",
      "----------------------------------\n",
      "valid_X:  torch.Size([1613, 1, 30, 40])\n",
      "valid_y:  torch.Size([1613])\n"
     ]
    }
   ],
   "source": [
    "train_X = torch.cuda.FloatTensor(X_train)\n",
    "train_y = torch.cuda.LongTensor(y_train)\n",
    "\n",
    "train_X = train_X.unsqueeze(1)\n",
    "\n",
    "valid_X = torch.cuda.FloatTensor(X_valid)\n",
    "valid_y = torch.cuda.LongTensor(y_valid)\n",
    "\n",
    "valid_X = valid_X.unsqueeze(1)\n",
    "\n",
    "print('train_X: ', train_X.shape)\n",
    "print('train_y: ', train_y.shape)\n",
    "print('----------------------------------')\n",
    "print(\"valid_X: \", valid_X.shape)\n",
    "print(\"valid_y: \", valid_y.shape)"
   ]
  },
  {
   "cell_type": "code",
   "execution_count": 12,
   "metadata": {},
   "outputs": [],
   "source": [
    "trainset = torch.utils.data.TensorDataset(train_X, train_y)\n",
    "train_data = torch.utils.data.DataLoader(trainset, batch_size=100, shuffle=True, num_workers=2) #6451/100=64\n",
    "\n",
    "validset = torch.utils.data.TensorDataset(valid_X, valid_y)\n",
    "valid_data = torch.utils.data.DataLoader(validset, batch_size=25, shuffle=False, num_workers=2) #1613/25=64"
   ]
  },
  {
   "cell_type": "code",
   "execution_count": null,
   "metadata": {},
   "outputs": [],
   "source": []
  }
 ],
 "metadata": {
  "kernelspec": {
   "display_name": "new_torch",
   "language": "python",
   "name": "new_torch"
  },
  "language_info": {
   "codemirror_mode": {
    "name": "ipython",
    "version": 3
   },
   "file_extension": ".py",
   "mimetype": "text/x-python",
   "name": "python",
   "nbconvert_exporter": "python",
   "pygments_lexer": "ipython3",
   "version": "3.6.10"
  }
 },
 "nbformat": 4,
 "nbformat_minor": 4
}
