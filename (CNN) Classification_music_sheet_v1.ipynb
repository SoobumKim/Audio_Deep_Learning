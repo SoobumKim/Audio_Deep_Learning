{
 "cells": [
  {
   "cell_type": "code",
   "execution_count": 88,
   "metadata": {},
   "outputs": [],
   "source": [
    "%matplotlib inline\n",
    "import matplotlib.pyplot as plt\n",
    "import os\n",
    "from scipy.io import wavfile\n",
    "from collections import defaultdict, Counter\n",
    "from scipy import signal\n",
    "import numpy as np\n",
    "import random as rn\n",
    "import cv2\n",
    "\n",
    "from sklearn.model_selection import train_test_split\n",
    "\n",
    "import torch\n",
    "import torch.nn as nn\n",
    "import torch.nn.functional as F\n",
    "import torch.optim as optim\n",
    "from torch.utils.data import DataLoader, Dataset, TensorDataset\n",
    "import torchvision\n",
    "from torchvision import datasets, transforms"
   ]
  },
  {
   "cell_type": "code",
   "execution_count": 89,
   "metadata": {},
   "outputs": [],
   "source": [
    "Data = []\n",
    "Label = []\n",
    "\n",
    "DATA_DIR = 'C:/Users/ADmin/Desktop/drum_small/'\n",
    "nfolder = ['Bass', 'Bass+Hihat', 'Bass+Ride', 'Hihat', 'Snare', 'Snare+Hihat', \\\n",
    "           'Snare+Tom_floor', 'Tom_1', 'Tom_1+Tom_floor', 'Tom_2', 'Tom_2+Tom_floor', 'Tom_floor']\n",
    "\n",
    "\n",
    "for var in range(len(nfolder)):\n",
    "    for fname in os.listdir(DATA_DIR + nfolder[var]):\n",
    "        img = cv2.imread(DATA_DIR + nfolder[var] + '/' + fname,cv2.IMREAD_GRAYSCALE)\n",
    "        \n",
    "        Data.append(img)\n",
    "        Label.append(nfolder.index(nfolder[var]))"
   ]
  },
  {
   "cell_type": "code",
   "execution_count": 90,
   "metadata": {},
   "outputs": [],
   "source": [
    "X_train, X_valid, y_train, y_valid = train_test_split(Data, Label, test_size = 0.2,random_state = 123, shuffle = True, stratify = Label)"
   ]
  },
  {
   "cell_type": "code",
   "execution_count": 92,
   "metadata": {},
   "outputs": [
    {
     "name": "stdout",
     "output_type": "stream",
     "text": [
      "train_X:  torch.Size([12544, 1, 90, 120])\n",
      "train_y:  torch.Size([12544])\n",
      "----------------------------------\n",
      "valid_X:  torch.Size([3136, 1, 90, 120])\n",
      "valid_y:  torch.Size([3136])\n"
     ]
    }
   ],
   "source": [
    "train_X = torch.cuda.FloatTensor(X_train)\n",
    "train_y = torch.cuda.LongTensor(y_train)\n",
    "\n",
    "train_X = train_X.unsqueeze(1)\n",
    "\n",
    "valid_X = torch.cuda.FloatTensor(X_valid)\n",
    "valid_y = torch.cuda.LongTensor(y_valid)\n",
    "\n",
    "valid_X = valid_X.unsqueeze(1)\n",
    "\n",
    "print('train_X: ', train_X.shape)\n",
    "print('train_y: ', train_y.shape)\n",
    "print('----------------------------------')\n",
    "print(\"valid_X: \", valid_X.shape)\n",
    "print(\"valid_y: \", valid_y.shape)"
   ]
  },
  {
   "cell_type": "code",
   "execution_count": 125,
   "metadata": {},
   "outputs": [],
   "source": [
    "use_cuda = torch.cuda.is_available()\n",
    "drop_prob = 0.1\n",
    "\n",
    "class CNNClassifier(nn.Module):\n",
    "    \n",
    "    def __init__(self):\n",
    "        super(CNNClassifier, self).__init__() \n",
    "        conv1 = nn.Conv2d(1, 32, 5) # 1@120*90 -> 32@116*86\n",
    "        pool1 = nn.MaxPool2d(2,2) # 32@58*43\n",
    "        conv2 = nn.Conv2d(32, 64, 5) # 32@58*43 -> 64@52*39\n",
    "        conv2_bn = nn.BatchNorm2d(64)\n",
    "        pool2 = nn.MaxPool2d(2,2) # 64@52*39 -> 64@26*19\n",
    "        conv3 = nn.Conv2d(64, 128, 5) # 64@26*19 -> 128@22*15\n",
    "        conv3_bn = nn.BatchNorm2d(128)\n",
    "        pool3 = nn.MaxPool2d(2,2) # 128@22*15 -> 128@11*7\n",
    "        \n",
    "        self.conv_module = nn.Sequential(\n",
    "            conv1,\n",
    "            nn.ReLU(),\n",
    "            pool1,\n",
    "            conv2,\n",
    "            conv2_bn,\n",
    "            nn.ReLU(),\n",
    "            pool2,\n",
    "            conv3,\n",
    "            conv3_bn,\n",
    "            nn.ReLU(),\n",
    "            pool3\n",
    "        )\n",
    "        \n",
    "        fc1 = nn.Linear(128*11*7, 64)\n",
    "        fc1_bn = nn.BatchNorm1d(64)\n",
    "        fc2 = nn.Linear(64, 32)\n",
    "        fc2_bn = nn.BatchNorm1d(32)\n",
    "        fc3 = nn.Linear(32, 12)\n",
    "        \n",
    "        dropout = torch.nn.Dropout(p=drop_prob)\n",
    "        \n",
    "        self.fc_module = nn.Sequential(\n",
    "            fc1,\n",
    "            fc1_bn,\n",
    "            nn.ReLU(),\n",
    "            dropout,\n",
    "            fc2,\n",
    "            fc2_bn,\n",
    "            nn.ReLU(),\n",
    "            dropout,\n",
    "            fc3\n",
    "        )\n",
    "        \n",
    "    def forward(self, x):\n",
    "        out = self.conv_module(x) #128*66*46\n",
    "        dim = 1\n",
    "        for d in out.size()[1:]:\n",
    "            dim = dim * d\n",
    "        out = out.view(-1, dim)\n",
    "        out = self.fc_module(out)\n",
    "        return F.softmax(out, dim=1)"
   ]
  },
  {
   "cell_type": "code",
   "execution_count": 126,
   "metadata": {},
   "outputs": [
    {
     "name": "stdout",
     "output_type": "stream",
     "text": [
      "----------------------------------------------------------------\n",
      "        Layer (type)               Output Shape         Param #\n",
      "================================================================\n",
      "            Conv2d-1          [-1, 32, 116, 86]             832\n",
      "              ReLU-2          [-1, 32, 116, 86]               0\n",
      "         MaxPool2d-3           [-1, 32, 58, 43]               0\n",
      "            Conv2d-4           [-1, 64, 54, 39]          51,264\n",
      "       BatchNorm2d-5           [-1, 64, 54, 39]             128\n",
      "              ReLU-6           [-1, 64, 54, 39]               0\n",
      "         MaxPool2d-7           [-1, 64, 27, 19]               0\n",
      "            Conv2d-8          [-1, 128, 23, 15]         204,928\n",
      "       BatchNorm2d-9          [-1, 128, 23, 15]             256\n",
      "             ReLU-10          [-1, 128, 23, 15]               0\n",
      "        MaxPool2d-11           [-1, 128, 11, 7]               0\n",
      "           Linear-12                   [-1, 64]         630,848\n",
      "      BatchNorm1d-13                   [-1, 64]             128\n",
      "             ReLU-14                   [-1, 64]               0\n",
      "          Dropout-15                   [-1, 64]               0\n",
      "           Linear-16                   [-1, 32]           2,080\n",
      "      BatchNorm1d-17                   [-1, 32]              64\n",
      "             ReLU-18                   [-1, 32]               0\n",
      "          Dropout-19                   [-1, 32]               0\n",
      "           Linear-20                   [-1, 12]             396\n",
      "================================================================\n",
      "Total params: 890,924\n",
      "Trainable params: 890,924\n",
      "Non-trainable params: 0\n",
      "----------------------------------------------------------------\n",
      "Input size (MB): 0.04\n",
      "Forward/backward pass size (MB): 9.90\n",
      "Params size (MB): 3.40\n",
      "Estimated Total Size (MB): 13.34\n",
      "----------------------------------------------------------------\n"
     ]
    }
   ],
   "source": [
    "from torchsummary import summary # from torch.autograd import Variable\n",
    "\n",
    "cnn = CNNClassifier().cuda()\n",
    "input_size = (1, 120, 90)\n",
    "summary(cnn, input_size)"
   ]
  },
  {
   "cell_type": "code",
   "execution_count": 127,
   "metadata": {},
   "outputs": [],
   "source": [
    "train_data = TensorDataset(train_X, train_y)\n",
    "train_data = DataLoader(train_data, batch_size=20, drop_last=False, shuffle=True)\n",
    "\n",
    "valid_data = TensorDataset(valid_X, valid_y)\n",
    "valid_data = DataLoader(valid_data, batch_size=4, drop_last=False, shuffle=True)"
   ]
  },
  {
   "cell_type": "code",
   "execution_count": 128,
   "metadata": {},
   "outputs": [
    {
     "name": "stdout",
     "output_type": "stream",
     "text": [
      "epoch: 1/30 | step: 628/628 | trn loss: 0.0955 | val loss: 0.4757\n",
      "epoch: 2/30 | step: 628/628 | trn loss: 0.0847 | val loss: 0.4619\n",
      "epoch: 3/30 | step: 628/628 | trn loss: 0.0833 | val loss: 0.4532\n",
      "epoch: 4/30 | step: 628/628 | trn loss: 0.0822 | val loss: 0.4485\n",
      "epoch: 5/30 | step: 628/628 | trn loss: 0.0820 | val loss: 0.4451\n",
      "epoch: 6/30 | step: 628/628 | trn loss: 0.0817 | val loss: 0.4435\n",
      "epoch: 7/30 | step: 628/628 | trn loss: 0.0817 | val loss: 0.4404\n",
      "epoch: 8/30 | step: 628/628 | trn loss: 0.0816 | val loss: 0.4418\n",
      "epoch: 9/30 | step: 628/628 | trn loss: 0.0815 | val loss: 0.4430\n",
      "epoch: 10/30 | step: 628/628 | trn loss: 0.0816 | val loss: 0.4394\n",
      "epoch: 11/30 | step: 628/628 | trn loss: 0.0815 | val loss: 0.4414\n",
      "epoch: 12/30 | step: 628/628 | trn loss: 0.0814 | val loss: 0.4412\n",
      "epoch: 13/30 | step: 628/628 | trn loss: 0.0814 | val loss: 0.4368\n",
      "epoch: 14/30 | step: 628/628 | trn loss: 0.0813 | val loss: 0.4358\n",
      "epoch: 15/30 | step: 628/628 | trn loss: 0.0814 | val loss: 0.4338\n",
      "epoch: 16/30 | step: 628/628 | trn loss: 0.0814 | val loss: 0.4362\n",
      "epoch: 17/30 | step: 628/628 | trn loss: 0.0813 | val loss: 0.4354\n",
      "epoch: 18/30 | step: 628/628 | trn loss: 0.0813 | val loss: 0.4347\n",
      "epoch: 19/30 | step: 628/628 | trn loss: 0.0813 | val loss: 0.4343\n",
      "epoch: 20/30 | step: 628/628 | trn loss: 0.0813 | val loss: 0.4398\n",
      "epoch: 21/30 | step: 628/628 | trn loss: 0.0814 | val loss: 0.4341\n",
      "epoch: 22/30 | step: 628/628 | trn loss: 0.0813 | val loss: 0.4345\n",
      "epoch: 23/30 | step: 628/628 | trn loss: 0.0812 | val loss: 0.4342\n",
      "epoch: 24/30 | step: 628/628 | trn loss: 0.0813 | val loss: 0.4374\n",
      "epoch: 25/30 | step: 628/628 | trn loss: 0.0814 | val loss: 0.4315\n",
      "epoch: 26/30 | step: 628/628 | trn loss: 0.0812 | val loss: 0.4371\n",
      "epoch: 27/30 | step: 628/628 | trn loss: 0.0812 | val loss: 0.4325\n",
      "epoch: 28/30 | step: 628/628 | trn loss: 0.0812 | val loss: 0.4334\n",
      "epoch: 29/30 | step: 628/628 | trn loss: 0.0813 | val loss: 0.4353\n",
      "epoch: 30/30 | step: 628/628 | trn loss: 0.0813 | val loss: 0.4344\n",
      "Accuracy of the network on the train audio: 98.487457 %\n",
      "Accuracy of the network on the test audio: 86.645408 %\n"
     ]
    }
   ],
   "source": [
    "criterion = nn.CrossEntropyLoss()\n",
    "learning_rate = 0.001\n",
    "optimizer = optim.Adam(cnn.parameters(), lr=learning_rate)\n",
    "\n",
    "num_epochs = 30\n",
    "num_batches = len(train_data)\n",
    "\n",
    "train_loss_list = []\n",
    "valid_loss_list = []\n",
    "train_accuracy = []\n",
    "valid_accuracy = []\n",
    "\n",
    "train_total = 0\n",
    "train_correct = 0\n",
    "train_incorrect = 0\n",
    "valid_total = 0\n",
    "valid_correct = 0\n",
    "valid_incorrect = 0\n",
    "\n",
    "for epoch in range(num_epochs):\n",
    "    \n",
    "    train_loss = 0.0\n",
    "    for i, data in enumerate(train_data):\n",
    "        x, label = data\n",
    "\n",
    "        if use_cuda:\n",
    "            x = x.cuda()\n",
    "            label = label.cuda()\n",
    "\n",
    "        optimizer.zero_grad()\n",
    "        model_output = cnn(x)\n",
    "        loss = criterion(model_output, label)\n",
    "        loss.backward()\n",
    "        optimizer.step()\n",
    "        \n",
    "        train_loss += loss.item()/len(train_data.dataset)\n",
    "        del loss\n",
    "        \n",
    "        for ix in range(len(model_output)):\n",
    "            if torch.argmax(model_output[ix]).item() == label[ix].item():\n",
    "                train_correct += 1\n",
    "            else:\n",
    "                train_incorrect += 1\n",
    "        \n",
    "        if (i+1) % num_batches == 0:\n",
    "            with torch.no_grad():\n",
    "                valid_loss = 0.0\n",
    "                for j, valid in enumerate(valid_data):\n",
    "                    valid_x, valid_label = valid\n",
    "                    if use_cuda:\n",
    "                        valid_x = valid_x.cuda()\n",
    "                        valid_label = valid_label.cuda()\n",
    "                    valid_output = cnn(valid_x)\n",
    "                    v_loss = criterion(valid_output, valid_label)\n",
    "                    valid_loss += v_loss/len(valid_data.dataset)\n",
    "                    \n",
    "                    for idx in range(len(valid_output)):\n",
    "                        if torch.argmax(valid_output[idx]).item() == valid_label[idx].item():\n",
    "                            valid_correct += 1\n",
    "                        else:\n",
    "                            valid_incorrect += 1                  \n",
    "\n",
    "            print(\"epoch: {}/{} | step: {}/{} | trn loss: {:.4f} | val loss: {:.4f}\".format(\n",
    "                epoch+1, num_epochs, i+1, num_batches, train_loss, valid_loss\n",
    "            ))            \n",
    "            \n",
    "            train_loss_list.append(train_loss)\n",
    "            valid_loss_list.append(valid_loss)\n",
    "            train_loss = 0.0\n",
    "    train_accuracy.append((train_correct/(train_correct+train_incorrect))*100)\n",
    "    valid_accuracy.append((valid_correct/(valid_correct+valid_incorrect))*100)\n",
    "\n",
    "print('Accuracy of the network on the train audio: %f %%' % (train_accuracy[-1]))\n",
    "print('Accuracy of the network on the test audio: %f %%' % (valid_accuracy[-1]))"
   ]
  },
  {
   "cell_type": "code",
   "execution_count": 129,
   "metadata": {},
   "outputs": [
    {
     "data": {
      "text/plain": [
       "<matplotlib.legend.Legend at 0x1e3c7e5d908>"
      ]
     },
     "execution_count": 129,
     "metadata": {},
     "output_type": "execute_result"
    },
    {
     "data": {
      "image/png": "[encoded data removed]",
      "text/plain": [
       "<Figure size 720x288 with 1 Axes>"
      ]
     },
     "metadata": {
      "needs_background": "light"
     },
     "output_type": "display_data"
    }
   ],
   "source": [
    "plt.rcParams[\"figure.figsize\"] = (10,4)\n",
    "plt.plot(train_accuracy, label = 'Train Accuracy')\n",
    "plt.plot(valid_accuracy, label = 'Validaton Accuracy')\n",
    "plt.xlabel('Epochs')\n",
    "plt.ylabel('Accuracy')\n",
    "plt.legend()"
   ]
  },
  {
   "cell_type": "code",
   "execution_count": null,
   "metadata": {},
   "outputs": [],
   "source": []
  }
 ],
 "metadata": {
  "kernelspec": {
   "display_name": "new_torch",
   "language": "python",
   "name": "new_torch"
  },
  "language_info": {
   "codemirror_mode": {
    "name": "ipython",
    "version": 3
   },
   "file_extension": ".py",
   "mimetype": "text/x-python",
   "name": "python",
   "nbconvert_exporter": "python",
   "pygments_lexer": "ipython3",
   "version": "3.6.10"
  }
 },
 "nbformat": 4,
 "nbformat_minor": 4
}
