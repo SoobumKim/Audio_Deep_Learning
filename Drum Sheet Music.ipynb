{
 "cells": [
  {
   "cell_type": "code",
   "execution_count": 104,
   "metadata": {},
   "outputs": [],
   "source": [
    "import cv2\n",
    "import os\n",
    "import matplotlib.pyplot as plt\n",
    "import numpy as np\n",
    "\n",
    "import torch"
   ]
  },
  {
   "cell_type": "code",
   "execution_count": 118,
   "metadata": {},
   "outputs": [],
   "source": [
    "def img_read_resize(files):\n",
    "    img = cv2.imread(files,cv2.IMREAD_GRAYSCALE)\n",
    "    img = cv2.resize(img, dsize=(640, 480), interpolation=cv2.INTER_AREA)\n",
    "    return img"
   ]
  },
  {
   "cell_type": "code",
   "execution_count": 120,
   "metadata": {},
   "outputs": [],
   "source": [
    "folder_instr = []\n",
    "img_bass = []\n",
    "img_bass_hihat = []\n",
    "img_bass_ride = []\n",
    "img_hihat = []\n",
    "img_snare = []\n",
    "img_snare_hihat = []\n",
    "img_snare_tom_floor = []\n",
    "img_tom_1 = []\n",
    "img_tom_1_tom_floor = []\n",
    "img_tom_2 = []\n",
    "img_tom_2_tom_floor = []\n",
    "img_tom_floor = []\n",
    "\n",
    "DIR_instr = 'C:/Users/ADmin/Desktop/drum_instument/'\n",
    "\n",
    "for i_instr in os.listdir(DIR_instr):\n",
    "    folder_instr = DIR_instr + i_instr\n",
    "    for i in os.listdir(folder_instr):\n",
    "        if i_instr == 'Bass':\n",
    "            img = img_read_resize(folder_instr+'/'+i)\n",
    "            img_bass.append(img)\n",
    "        elif i_instr == 'Bass+Hihat':\n",
    "            img = img_read_resize(folder_instr+'/'+i)\n",
    "            img_bass_hihat.append(img)\n",
    "        elif i_instr == 'Bass+Ride':\n",
    "            img = img_read_resize(folder_instr+'/'+i)\n",
    "            img_bass_ride.append(img)\n",
    "        elif i_instr == 'Hihat':\n",
    "            img = img_read_resize(folder_instr+'/'+i)\n",
    "            img_hihat.append(img)   \n",
    "        elif i_instr == 'Snare':\n",
    "            img = img_read_resize(folder_instr+'/'+i)\n",
    "            img_snare.append(img) \n",
    "        elif i_instr == 'Snare+Hihat':\n",
    "            img = img_read_resize(folder_instr+'/'+i)\n",
    "            img_snare_hihat.append(img) \n",
    "        elif i_instr == 'Snare+Tom_floor':\n",
    "            img = img_read_resize(folder_instr+'/'+i)\n",
    "            img_snare_tom_floor.append(img)    \n",
    "        elif i_instr == 'Tom_1':\n",
    "            img = img_read_resize(folder_instr+'/'+i)\n",
    "            img_tom_1.append(img)   \n",
    "        elif i_instr == 'Tom_1+Tom_floor':\n",
    "            img = img_read_resize(folder_instr+'/'+i)\n",
    "            img_tom_1_tom_floor.append(img)  \n",
    "        elif i_instr == 'Tom_2':\n",
    "            img = img_read_resize(folder_instr+'/'+i)\n",
    "            img_tom_2.append(img)  \n",
    "        elif i_instr == 'Tom_2+Tom_floor':\n",
    "            img = img_read_resize(folder_instr+'/'+i)\n",
    "            img_tom_2_tom_floor.append(img) \n",
    "        elif i_instr == 'Tom_floor':\n",
    "            img = img_read_resize(folder_instr+'/'+i)\n",
    "            img_tom_floor.append(img)  \n",
    "            \n",
    "img_bass = torch.FloatTensor(img_bass)\n",
    "img_bass_hihat = torch.FloatTensor(img_bass_hihat)\n",
    "img_bass_ride = torch.FloatTensor(img_bass_ride)\n",
    "img_hihat = torch.FloatTensor(img_hihat)\n",
    "img_snare = torch.FloatTensor(img_snare)\n",
    "img_snare_hihat = torch.FloatTensor(img_snare_hihat)\n",
    "img_snare_tom_floor = torch.FloatTensor(img_snare_tom_floor)\n",
    "img_tom_1 = torch.FloatTensor(img_tom_1)\n",
    "img_tom_1_tom_floor = torch.FloatTensor(img_tom_1_tom_floor)\n",
    "img_tom_2 = torch.FloatTensor(img_tom_2)\n",
    "img_tom_2_tom_floor = torch.FloatTensor(img_tom_2_tom_floor)\n",
    "img_tom_floor = torch.FloatTensor(img_tom_floor)"
   ]
  },
  {
   "cell_type": "code",
   "execution_count": 124,
   "metadata": {
    "scrolled": true
   },
   "outputs": [
    {
     "data": {
      "text/plain": [
       "<matplotlib.image.AxesImage at 0x2321b4c5e10>"
      ]
     },
     "execution_count": 124,
     "metadata": {},
     "output_type": "execute_result"
    },
    {
     "data": {
      "image/png": "[encoded data removed]",
      "text/plain": [
       "<Figure size 432x288 with 1 Axes>"
      ]
     },
     "metadata": {
      "needs_background": "light"
     },
     "output_type": "display_data"
    }
   ],
   "source": [
    "plt.imshow(img_bass[1,:,:])"
   ]
  },
  {
   "cell_type": "code",
   "execution_count": 108,
   "metadata": {},
   "outputs": [
    {
     "data": {
      "text/plain": [
       "torch.Size([2, 480, 640])"
      ]
     },
     "execution_count": 108,
     "metadata": {},
     "output_type": "execute_result"
    }
   ],
   "source": [
    "img_bass.shape"
   ]
  },
  {
   "cell_type": "code",
   "execution_count": 125,
   "metadata": {},
   "outputs": [],
   "source": [
    "#Data augmentation"
   ]
  }
 ],
 "metadata": {
  "kernelspec": {
   "display_name": "new_torch",
   "language": "python",
   "name": "new_torch"
  },
  "language_info": {
   "codemirror_mode": {
    "name": "ipython",
    "version": 3
   },
   "file_extension": ".py",
   "mimetype": "text/x-python",
   "name": "python",
   "nbconvert_exporter": "python",
   "pygments_lexer": "ipython3",
   "version": "3.6.10"
  }
 },
 "nbformat": 4,
 "nbformat_minor": 4
}
