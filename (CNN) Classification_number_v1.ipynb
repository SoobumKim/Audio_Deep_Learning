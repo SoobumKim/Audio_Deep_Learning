{
 "cells": [
  {
   "cell_type": "code",
   "execution_count": 2,
   "metadata": {},
   "outputs": [],
   "source": [
    "%matplotlib inline\n",
    "import matplotlib.pyplot as plt\n",
    "import os\n",
    "from scipy.io import wavfile\n",
    "from collections import defaultdict, Counter\n",
    "from scipy import signal\n",
    "import numpy as np\n",
    "import librosa\n",
    "import random as rn\n",
    "\n",
    "from sklearn.model_selection import train_test_split\n",
    "\n",
    "import torch\n",
    "import torch.nn as nn\n",
    "import torch.nn.functional as F\n",
    "import torch.optim as optim\n",
    "from torch.utils.data import DataLoader, Dataset, TensorDataset\n",
    "import torchvision\n",
    "from torchvision import datasets, transforms"
   ]
  },
  {
   "cell_type": "code",
   "execution_count": 3,
   "metadata": {},
   "outputs": [],
   "source": [
    "Data = []\n",
    "Label = []\n",
    "\n",
    "pad1d = lambda a,i : a[0:i] if a.shape[0] > i else np.hstack((a, np.zeros(i - a.shape[0])))\n",
    "pad2d = lambda a,i : a[:, 0:i] if a.shape[1] > i else np.hstack((a, np.zeros((a.shape[0], i - a.shape[1]))))"
   ]
  },
  {
   "cell_type": "code",
   "execution_count": 4,
   "metadata": {},
   "outputs": [],
   "source": [
    "DATA_DIR = 'C:/Users/ADmin/Desktop/train/audio/'\n",
    "num = {'zero/' : 0,'one/' : 1,'two/' : 2,'three/' : 3,'four/' : 4,'five/' : 5,'six/' : 6,'seven/' : 7,'eight/' : 8,'nine/' : 9}\n",
    "\n",
    "for n_folder,n in num.items():\n",
    "    for fname in os.listdir(DATA_DIR + n_folder):\n",
    "        wav, _ = librosa.load(DATA_DIR + n_folder + fname)\n",
    "\n",
    "        Data.append(wav)\n",
    "        Label.append(n)"
   ]
  },
  {
   "cell_type": "code",
   "execution_count": 5,
   "metadata": {},
   "outputs": [],
   "source": [
    "X_train, X_valid, y_train, y_valid = train_test_split(Data, Label, test_size = 0.2,random_state = 123, shuffle = True, stratify = Label)"
   ]
  },
  {
   "cell_type": "code",
   "execution_count": 14,
   "metadata": {},
   "outputs": [],
   "source": [
    "train_X = []\n",
    "train_mfccs = []\n",
    "train_y = []\n",
    "\n",
    "#STFT한것, CNN분석하기 위해 Spectrogram으로 만든 것, MF한것, mel-spectorgram한것\n",
    "\n",
    "for i in range(len(X_train)):\n",
    "    wav = X_train[i]\n",
    "    label = y_train[i]\n",
    "\n",
    "    padded_x = pad1d(wav, 30000)\n",
    "\n",
    "    mfcc = librosa.feature.mfcc(wav)\n",
    "    padded_mfcc = pad2d(mfcc,40)\n",
    "\n",
    "    train_X.append(padded_x)\n",
    "    train_mfccs.append(padded_mfcc) \n",
    "    train_y.append(label)\n",
    "\n",
    "valid_X = []\n",
    "valid_mfccs = []\n",
    "valid_y = []\n",
    "\n",
    "for i in range(len(X_valid)):\n",
    "    wav = X_valid[i]\n",
    "    label = y_valid[i]\n",
    "\n",
    "    padded_x = pad1d(wav, 30000)\n",
    "\n",
    "    mfcc = librosa.feature.mfcc(wav)\n",
    "    padded_mfcc = pad2d(mfcc,40)\n",
    "\n",
    "    valid_X.append(padded_x)\n",
    "    valid_mfccs.append(padded_mfcc) \n",
    "    valid_y.append(label)"
   ]
  },
  {
   "cell_type": "code",
   "execution_count": 23,
   "metadata": {},
   "outputs": [
    {
     "data": {
      "text/plain": [
       "<matplotlib.image.AxesImage at 0x20ec5769c88>"
      ]
     },
     "execution_count": 23,
     "metadata": {},
     "output_type": "execute_result"
    },
    {
     "data": {
      "image/png": "[encoded data removed]",
      "text/plain": [
       "<Figure size 432x288 with 1 Axes>"
      ]
     },
     "metadata": {
      "needs_background": "light"
     },
     "output_type": "display_data"
    }
   ],
   "source": [
    "#train_mfccs = torch.FloatTensor(train_mfccs)\n",
    "#plt.imshow(train_mfccs[65,:,:])"
   ]
  },
  {
   "cell_type": "code",
   "execution_count": 8,
   "metadata": {},
   "outputs": [
    {
     "name": "stdout",
     "output_type": "stream",
     "text": [
      "train_X:  torch.Size([18932, 30000])\n",
      "train_mfccs:  torch.Size([18932, 1, 20, 40])\n",
      "train_y:  torch.Size([18932])\n",
      "----------------------------------\n",
      "valid_X:  torch.Size([4734, 30000])\n",
      "valid_mfccs:  torch.Size([4734, 1, 20, 40])\n",
      "valid_y:  torch.Size([4734])\n"
     ]
    }
   ],
   "source": [
    "train_X = torch.FloatTensor(train_X)\n",
    "train_mfccs = torch.FloatTensor(train_mfccs)\n",
    "train_y = torch.LongTensor(train_y)\n",
    "\n",
    "train_mfccs = train_mfccs.unsqueeze(1)\n",
    "\n",
    "valid_X = torch.FloatTensor(valid_X)\n",
    "valid_mfccs = torch.FloatTensor(valid_mfccs)\n",
    "valid_y = torch.LongTensor(valid_y)\n",
    "\n",
    "valid_mfccs = valid_mfccs.unsqueeze(1)\n",
    "\n",
    "print('train_X: ', train_X.shape)\n",
    "print('train_mfccs: ', train_mfccs.shape)\n",
    "print('train_y: ', train_y.shape)\n",
    "print('----------------------------------')\n",
    "print(\"valid_X: \", valid_X.shape)\n",
    "print(\"valid_mfccs: \", valid_mfccs.shape)\n",
    "print(\"valid_y: \", valid_y.shape)"
   ]
  },
  {
   "cell_type": "code",
   "execution_count": 9,
   "metadata": {},
   "outputs": [],
   "source": [
    "train_data = TensorDataset(train_mfccs, train_y)\n",
    "train_data = DataLoader(train_data, batch_size=240, drop_last=False, shuffle=True)\n",
    "\n",
    "valid_data = TensorDataset(valid_mfccs, valid_y)\n",
    "valid_data = DataLoader(valid_data, batch_size=60, drop_last=False, shuffle=True)"
   ]
  },
  {
   "cell_type": "code",
   "execution_count": 10,
   "metadata": {},
   "outputs": [],
   "source": [
    "use_cuda = torch.cuda.is_available()\n",
    "\n",
    "class CNNClassifier(nn.Module):\n",
    "    \n",
    "    def __init__(self):\n",
    "        # 항상 torch.nn.Module을 상속받고 시작\n",
    "        super(CNNClassifier, self).__init__()\n",
    "        conv1 = nn.Conv2d(1, 64, 4) # 1@20*40 -> 64@17*37\n",
    "        # activation ReLU\n",
    "        pool1 = nn.MaxPool2d(2,2) # 64@8*18\n",
    "        conv2 = nn.Conv2d(64, 128, 4) # 128@5*15\n",
    "        # activation ReLU\n",
    "        pool2 = nn.MaxPool2d(2,2) # 128@2*7\n",
    "        \n",
    "        self.conv_module = nn.Sequential(\n",
    "            conv1,\n",
    "            nn.ReLU(),\n",
    "            pool1,\n",
    "            conv2,\n",
    "            nn.ReLU(),\n",
    "            pool2\n",
    "        )\n",
    "        \n",
    "        fc1 = nn.Linear(128*2*7, 64)\n",
    "        # activation ReLU\n",
    "        fc2 = nn.Linear(64, 32)\n",
    "        # activation ReLU\n",
    "        fc3 = nn.Linear(32, 10)\n",
    "        \n",
    "        self.fc_module = nn.Sequential(\n",
    "            fc1,\n",
    "            nn.ReLU(),\n",
    "            fc2,\n",
    "            nn.ReLU(),\n",
    "            fc3\n",
    "        )\n",
    "        \n",
    "        # gpu로 할당\n",
    "        if use_cuda:\n",
    "            self.conv_module = self.conv_module.cuda()\n",
    "            self.fc_module = self.fc_module.cuda()\n",
    "        \n",
    "    def forward(self, x):\n",
    "        out = self.conv_module(x) # @128*254*7\n",
    "        # make linear\n",
    "        dim = 1\n",
    "        for d in out.size()[1:]: #16, 4, 4\n",
    "            dim = dim * d\n",
    "        out = out.view(-1, dim)\n",
    "        out = self.fc_module(out)\n",
    "        return F.softmax(out, dim=1)"
   ]
  },
  {
   "cell_type": "code",
   "execution_count": 11,
   "metadata": {},
   "outputs": [
    {
     "name": "stdout",
     "output_type": "stream",
     "text": [
      "CNNClassifier(\n",
      "  (conv_module): Sequential(\n",
      "    (0): Conv2d(1, 64, kernel_size=(4, 4), stride=(1, 1))\n",
      "    (1): ReLU()\n",
      "    (2): MaxPool2d(kernel_size=2, stride=2, padding=0, dilation=1, ceil_mode=False)\n",
      "    (3): Conv2d(64, 128, kernel_size=(4, 4), stride=(1, 1))\n",
      "    (4): ReLU()\n",
      "    (5): MaxPool2d(kernel_size=2, stride=2, padding=0, dilation=1, ceil_mode=False)\n",
      "  )\n",
      "  (fc_module): Sequential(\n",
      "    (0): Linear(in_features=1792, out_features=64, bias=True)\n",
      "    (1): ReLU()\n",
      "    (2): Linear(in_features=64, out_features=32, bias=True)\n",
      "    (3): ReLU()\n",
      "    (4): Linear(in_features=32, out_features=10, bias=True)\n",
      "  )\n",
      ")\n"
     ]
    }
   ],
   "source": [
    "cnn = CNNClassifier()\n",
    "print(cnn)"
   ]
  },
  {
   "cell_type": "code",
   "execution_count": 11,
   "metadata": {},
   "outputs": [
    {
     "name": "stdout",
     "output_type": "stream",
     "text": [
      "epoch: 1/100 | step: 70/79 | trn loss: 138.1544 | val loss: 139.9441\n",
      "epoch: 2/100 | step: 70/79 | trn loss: 121.4550 | val loss: 136.5791\n",
      "epoch: 3/100 | step: 70/79 | trn loss: 115.5288 | val loss: 130.5961\n",
      "epoch: 4/100 | step: 70/79 | trn loss: 112.7864 | val loss: 124.7634\n",
      "epoch: 5/100 | step: 70/79 | trn loss: 107.7866 | val loss: 124.1713\n",
      "epoch: 6/100 | step: 70/79 | trn loss: 107.3948 | val loss: 122.8808\n",
      "epoch: 7/100 | step: 70/79 | trn loss: 106.5644 | val loss: 122.3570\n",
      "epoch: 8/100 | step: 70/79 | trn loss: 106.1139 | val loss: 122.0702\n",
      "epoch: 9/100 | step: 70/79 | trn loss: 105.7470 | val loss: 121.5154\n",
      "epoch: 10/100 | step: 70/79 | trn loss: 105.5377 | val loss: 121.9352\n",
      "epoch: 11/100 | step: 70/79 | trn loss: 105.1562 | val loss: 122.1691\n",
      "epoch: 12/100 | step: 70/79 | trn loss: 105.1178 | val loss: 122.2349\n",
      "epoch: 13/100 | step: 70/79 | trn loss: 105.1274 | val loss: 121.1641\n",
      "epoch: 14/100 | step: 70/79 | trn loss: 104.5330 | val loss: 121.5143\n",
      "epoch: 15/100 | step: 70/79 | trn loss: 104.6671 | val loss: 121.5440\n",
      "epoch: 16/100 | step: 70/79 | trn loss: 104.4564 | val loss: 121.8058\n",
      "epoch: 17/100 | step: 70/79 | trn loss: 104.4765 | val loss: 121.6718\n",
      "epoch: 18/100 | step: 70/79 | trn loss: 104.6439 | val loss: 121.0739\n",
      "epoch: 19/100 | step: 70/79 | trn loss: 104.1748 | val loss: 121.1226\n",
      "epoch: 20/100 | step: 70/79 | trn loss: 104.0950 | val loss: 121.6376\n",
      "epoch: 21/100 | step: 70/79 | trn loss: 104.0910 | val loss: 121.1121\n",
      "epoch: 22/100 | step: 70/79 | trn loss: 103.9831 | val loss: 120.9439\n",
      "epoch: 23/100 | step: 70/79 | trn loss: 103.9306 | val loss: 121.2945\n",
      "epoch: 24/100 | step: 70/79 | trn loss: 103.8365 | val loss: 121.1534\n",
      "epoch: 25/100 | step: 70/79 | trn loss: 103.6702 | val loss: 121.1631\n",
      "epoch: 26/100 | step: 70/79 | trn loss: 103.7911 | val loss: 121.0052\n",
      "epoch: 27/100 | step: 70/79 | trn loss: 103.7213 | val loss: 121.8060\n",
      "epoch: 28/100 | step: 70/79 | trn loss: 103.6432 | val loss: 120.7415\n",
      "epoch: 29/100 | step: 70/79 | trn loss: 103.7084 | val loss: 120.6975\n",
      "epoch: 30/100 | step: 70/79 | trn loss: 103.7547 | val loss: 121.4283\n",
      "epoch: 31/100 | step: 70/79 | trn loss: 103.6296 | val loss: 121.0052\n",
      "epoch: 32/100 | step: 70/79 | trn loss: 103.6908 | val loss: 121.4681\n",
      "epoch: 33/100 | step: 70/79 | trn loss: 103.9039 | val loss: 120.8435\n",
      "epoch: 34/100 | step: 70/79 | trn loss: 103.6282 | val loss: 121.3652\n",
      "epoch: 35/100 | step: 70/79 | trn loss: 103.5116 | val loss: 121.1596\n",
      "epoch: 36/100 | step: 70/79 | trn loss: 103.7268 | val loss: 121.6433\n",
      "epoch: 37/100 | step: 70/79 | trn loss: 103.5890 | val loss: 121.3663\n",
      "epoch: 38/100 | step: 70/79 | trn loss: 103.7705 | val loss: 121.9267\n",
      "epoch: 39/100 | step: 70/79 | trn loss: 103.7570 | val loss: 120.9510\n",
      "epoch: 40/100 | step: 70/79 | trn loss: 103.4916 | val loss: 121.0682\n",
      "epoch: 41/100 | step: 70/79 | trn loss: 103.4739 | val loss: 121.1036\n",
      "epoch: 42/100 | step: 70/79 | trn loss: 103.4085 | val loss: 120.6916\n",
      "epoch: 43/100 | step: 70/79 | trn loss: 103.5754 | val loss: 121.0532\n",
      "epoch: 44/100 | step: 70/79 | trn loss: 103.7137 | val loss: 121.1859\n",
      "epoch: 45/100 | step: 70/79 | trn loss: 103.2895 | val loss: 121.0604\n",
      "epoch: 46/100 | step: 70/79 | trn loss: 103.2097 | val loss: 121.3016\n",
      "epoch: 47/100 | step: 70/79 | trn loss: 103.3197 | val loss: 121.3204\n",
      "epoch: 48/100 | step: 70/79 | trn loss: 103.2231 | val loss: 120.7946\n",
      "epoch: 49/100 | step: 70/79 | trn loss: 103.4123 | val loss: 121.3276\n",
      "epoch: 50/100 | step: 70/79 | trn loss: 103.4635 | val loss: 121.3526\n",
      "epoch: 51/100 | step: 70/79 | trn loss: 103.4481 | val loss: 120.8230\n",
      "epoch: 52/100 | step: 70/79 | trn loss: 103.4616 | val loss: 121.2323\n",
      "epoch: 53/100 | step: 70/79 | trn loss: 103.3038 | val loss: 120.8244\n",
      "epoch: 54/100 | step: 70/79 | trn loss: 103.3882 | val loss: 121.0537\n",
      "epoch: 55/100 | step: 70/79 | trn loss: 103.2918 | val loss: 120.9107\n",
      "epoch: 56/100 | step: 70/79 | trn loss: 103.2535 | val loss: 120.9097\n",
      "epoch: 57/100 | step: 70/79 | trn loss: 103.2497 | val loss: 121.3413\n",
      "epoch: 58/100 | step: 70/79 | trn loss: 103.1340 | val loss: 120.6411\n",
      "epoch: 59/100 | step: 70/79 | trn loss: 103.1984 | val loss: 120.8877\n",
      "epoch: 60/100 | step: 70/79 | trn loss: 103.1120 | val loss: 121.0368\n",
      "epoch: 61/100 | step: 70/79 | trn loss: 103.2008 | val loss: 120.9608\n",
      "epoch: 62/100 | step: 70/79 | trn loss: 103.3800 | val loss: 120.9910\n",
      "epoch: 63/100 | step: 70/79 | trn loss: 103.1672 | val loss: 120.6814\n",
      "epoch: 64/100 | step: 70/79 | trn loss: 103.3556 | val loss: 120.9354\n",
      "epoch: 65/100 | step: 70/79 | trn loss: 103.1584 | val loss: 120.8052\n",
      "epoch: 66/100 | step: 70/79 | trn loss: 103.4688 | val loss: 120.9683\n",
      "epoch: 67/100 | step: 70/79 | trn loss: 103.2039 | val loss: 120.6840\n",
      "epoch: 68/100 | step: 70/79 | trn loss: 103.0845 | val loss: 121.1544\n",
      "epoch: 69/100 | step: 70/79 | trn loss: 103.1137 | val loss: 120.5701\n",
      "epoch: 70/100 | step: 70/79 | trn loss: 103.1670 | val loss: 121.1138\n",
      "epoch: 71/100 | step: 70/79 | trn loss: 103.1088 | val loss: 121.5457\n",
      "epoch: 72/100 | step: 70/79 | trn loss: 103.1893 | val loss: 120.7720\n",
      "epoch: 73/100 | step: 70/79 | trn loss: 103.0851 | val loss: 121.0657\n",
      "epoch: 74/100 | step: 70/79 | trn loss: 103.2587 | val loss: 121.2870\n",
      "epoch: 75/100 | step: 70/79 | trn loss: 103.3412 | val loss: 120.8331\n",
      "epoch: 76/100 | step: 70/79 | trn loss: 103.0821 | val loss: 120.8583\n",
      "epoch: 77/100 | step: 70/79 | trn loss: 103.1455 | val loss: 120.6591\n",
      "epoch: 78/100 | step: 70/79 | trn loss: 103.3161 | val loss: 121.0212\n",
      "epoch: 79/100 | step: 70/79 | trn loss: 103.2495 | val loss: 121.4031\n",
      "epoch: 80/100 | step: 70/79 | trn loss: 103.2518 | val loss: 120.7787\n",
      "epoch: 81/100 | step: 70/79 | trn loss: 103.3610 | val loss: 121.0980\n",
      "epoch: 82/100 | step: 70/79 | trn loss: 103.1128 | val loss: 121.3293\n",
      "epoch: 83/100 | step: 70/79 | trn loss: 103.0163 | val loss: 120.7935\n",
      "epoch: 84/100 | step: 70/79 | trn loss: 103.0017 | val loss: 120.8896\n",
      "epoch: 85/100 | step: 70/79 | trn loss: 103.1982 | val loss: 120.6385\n",
      "epoch: 86/100 | step: 70/79 | trn loss: 103.0435 | val loss: 120.5441\n",
      "epoch: 87/100 | step: 70/79 | trn loss: 103.0817 | val loss: 120.9767\n",
      "epoch: 88/100 | step: 70/79 | trn loss: 103.0076 | val loss: 120.7064\n",
      "epoch: 89/100 | step: 70/79 | trn loss: 103.1321 | val loss: 120.6684\n",
      "epoch: 90/100 | step: 70/79 | trn loss: 103.0113 | val loss: 120.7908\n",
      "epoch: 91/100 | step: 70/79 | trn loss: 102.9336 | val loss: 121.3858\n",
      "epoch: 92/100 | step: 70/79 | trn loss: 103.0213 | val loss: 120.6085\n",
      "epoch: 93/100 | step: 70/79 | trn loss: 102.8277 | val loss: 120.7266\n",
      "epoch: 94/100 | step: 70/79 | trn loss: 102.9690 | val loss: 121.0899\n",
      "epoch: 95/100 | step: 70/79 | trn loss: 103.1474 | val loss: 120.8343\n",
      "epoch: 96/100 | step: 70/79 | trn loss: 102.8961 | val loss: 120.5784\n",
      "epoch: 97/100 | step: 70/79 | trn loss: 103.0141 | val loss: 120.8589\n",
      "epoch: 98/100 | step: 70/79 | trn loss: 102.8810 | val loss: 120.4394\n",
      "epoch: 99/100 | step: 70/79 | trn loss: 102.8321 | val loss: 120.5184\n",
      "epoch: 100/100 | step: 70/79 | trn loss: 102.9224 | val loss: 121.0460\n",
      "Accuracy of the network on the train audio: 97.103581 %\n",
      "Accuracy of the network on the test audio: 92.175327 %\n"
     ]
    }
   ],
   "source": [
    "# loss\n",
    "criterion = nn.CrossEntropyLoss()\n",
    "# backpropagation method\n",
    "learning_rate = 0.0005 #1e-3\n",
    "optimizer = optim.Adam(cnn.parameters(), lr=learning_rate)\n",
    "# hyper-parameters\n",
    "num_epochs = 100\n",
    "num_batches = len(train_data)\n",
    "\n",
    "train_loss_list = []\n",
    "valid_loss_list = []\n",
    "train_accuracy = []\n",
    "valid_accuracy = []\n",
    "\n",
    "train_total = 0\n",
    "train_correct = 0\n",
    "train_incorrect = 0\n",
    "valid_total = 0\n",
    "valid_correct = 0\n",
    "valid_incorrect = 0\n",
    "\n",
    "for epoch in range(num_epochs):\n",
    "    \n",
    "    train_loss = 0.0\n",
    "    for i, data in enumerate(train_data):\n",
    "        x, label = data\n",
    "\n",
    "        if use_cuda:\n",
    "            x = x.cuda()\n",
    "            label = label.cuda()\n",
    "        # grad init\n",
    "        optimizer.zero_grad()\n",
    "        # forward propagation\n",
    "        model_output = cnn(x)\n",
    "        # calculate loss\n",
    "        loss = criterion(model_output, label)\n",
    "        # back propagation \n",
    "        loss.backward()\n",
    "        # weight update\n",
    "        optimizer.step()\n",
    "        \n",
    "        # trn_loss summary\n",
    "        train_loss += loss.item()\n",
    "        # del (memory issue)\n",
    "        del loss\n",
    "        \n",
    "        for ix in range(len(model_output)):\n",
    "            if torch.argmax(model_output[ix]).item() == label[ix].item():\n",
    "                train_correct += 1\n",
    "            else:\n",
    "                train_incorrect += 1\n",
    "        \n",
    "        # 학습과정 출력\n",
    "        if (i+1) % 70 == 0: # every 100 mini-batches\n",
    "            with torch.no_grad(): # very very very very important!!!\n",
    "                valid_loss = 0.0\n",
    "                for j, valid in enumerate(valid_data):\n",
    "                    valid_x, valid_label = valid\n",
    "                    if use_cuda:\n",
    "                        valid_x = valid_x.cuda()\n",
    "                        valid_label = valid_label.cuda()\n",
    "                    valid_output = cnn(valid_x)\n",
    "                    v_loss = criterion(valid_output, valid_label)\n",
    "                    valid_loss += v_loss\n",
    "                    \n",
    "                    for idx in range(len(valid_output)):\n",
    "                        if torch.argmax(valid_output[idx]).item() == valid_label[idx].item():\n",
    "                            valid_correct += 1\n",
    "                        else:\n",
    "                            valid_incorrect += 1                  \n",
    "\n",
    "            print(\"epoch: {}/{} | step: {}/{} | trn loss: {:.4f} | val loss: {:.4f}\".format(\n",
    "                epoch+1, num_epochs, i+1, num_batches, train_loss, valid_loss\n",
    "            ))            \n",
    "            \n",
    "            train_loss_list.append(train_loss)\n",
    "            valid_loss_list.append(valid_loss)\n",
    "            train_loss = 0.0\n",
    "    train_accuracy.append((train_correct/(train_correct+train_incorrect))*100)\n",
    "    valid_accuracy.append((valid_correct/(valid_correct+valid_incorrect))*100)\n",
    "\n",
    "print('Accuracy of the network on the train audio: %f %%' % (train_accuracy[-1]))\n",
    "print('Accuracy of the network on the test audio: %f %%' % (valid_accuracy[-1]))"
   ]
  },
  {
   "cell_type": "code",
   "execution_count": 12,
   "metadata": {},
   "outputs": [
    {
     "data": {
      "text/plain": [
       "<matplotlib.legend.Legend at 0x1ee1e6dd2b0>"
      ]
     },
     "execution_count": 12,
     "metadata": {},
     "output_type": "execute_result"
    },
    {
     "data": {
      "image/png": "[encoded data removed]",
      "text/plain": [
       "<Figure size 720x288 with 1 Axes>"
      ]
     },
     "metadata": {
      "needs_background": "light"
     },
     "output_type": "display_data"
    }
   ],
   "source": [
    "plt.rcParams[\"figure.figsize\"] = (10,4)\n",
    "plt.plot(train_accuracy, label = 'Train Loss')\n",
    "plt.plot(valid_accuracy, label = 'Validaton Loss')\n",
    "plt.xlabel('Epochs')\n",
    "plt.ylabel('Loss')\n",
    "plt.legend()"
   ]
  },
  {
   "cell_type": "code",
   "execution_count": 13,
   "metadata": {},
   "outputs": [],
   "source": [
    "TEST_DATA_DIR = 'C:/Users/ADmin/Desktop/닭/'\n",
    "TEST_Data = []\n",
    "\n",
    "for fname in os.listdir(TEST_DATA_DIR):\n",
    "    wav, _ = librosa.load(TEST_DATA_DIR + fname)\n",
    "\n",
    "    TEST_Data.append(wav)"
   ]
  },
  {
   "cell_type": "code",
   "execution_count": 14,
   "metadata": {},
   "outputs": [
    {
     "data": {
      "text/plain": [
       "['eight_1.wav',\n",
       " 'eight_2.wav',\n",
       " 'five_1.wav',\n",
       " 'five_2.wav',\n",
       " 'four_1.wav',\n",
       " 'four_2.wav',\n",
       " 'nine_1.wav',\n",
       " 'nine_2.wav',\n",
       " 'one_1.wav',\n",
       " 'one_2.wav',\n",
       " 'seven_1.wav',\n",
       " 'seven_2.wav',\n",
       " 'six_1.wav',\n",
       " 'six_2.wav',\n",
       " 'three_1.wav',\n",
       " 'three_2.wav',\n",
       " 'two_1.wav',\n",
       " 'two_2.wav',\n",
       " 'zero_1.wav',\n",
       " 'zero_2.wav']"
      ]
     },
     "execution_count": 14,
     "metadata": {},
     "output_type": "execute_result"
    }
   ],
   "source": [
    "os.listdir(TEST_DATA_DIR)"
   ]
  },
  {
   "cell_type": "code",
   "execution_count": 48,
   "metadata": {},
   "outputs": [
    {
     "data": {
      "text/plain": [
       "tensor([6, 8, 5, 3, 4, 4, 9, 9, 1, 1, 7, 7, 6, 6, 3, 3, 2, 2, 0, 2],\n",
       "       device='cuda:0')"
      ]
     },
     "execution_count": 48,
     "metadata": {},
     "output_type": "execute_result"
    }
   ],
   "source": [
    "TEST_padded_mfcc = []\n",
    "for i in range(len(TEST_Data)):\n",
    "    TEST_mfcc = librosa.feature.mfcc(TEST_Data[i])\n",
    "    TEST_padded_mfcc.append(pad2d(TEST_mfcc,40)) \n",
    "    \n",
    "TEST_padded_mfcc = torch.cuda.FloatTensor(TEST_padded_mfcc)\n",
    "TEST_mfcc = TEST_padded_mfcc.unsqueeze(1)\n",
    "\n",
    "TEST_pred = cnn(TEST_mfcc)\n",
    "\n",
    "torch.argmax(TEST_pred,axis=1)"
   ]
  },
  {
   "cell_type": "code",
   "execution_count": 49,
   "metadata": {},
   "outputs": [],
   "source": [
    "max_ind = []\n",
    "second_ind = []\n",
    "\n",
    "for ind in range(len(TEST_pred)):\n",
    "    max_i = torch.argmax(TEST_pred[ind])\n",
    "    TEST_pred[ind][max_i] = 0\n",
    "    \n",
    "    max_ind.append(max_i)\n",
    "    second_ind.append(torch.argmax(TEST_pred[ind]))"
   ]
  },
  {
   "cell_type": "code",
   "execution_count": 54,
   "metadata": {},
   "outputs": [
    {
     "name": "stdout",
     "output_type": "stream",
     "text": [
      "eight_1.wav // 6 // 2\n",
      "eight_2.wav // 8 // 2\n",
      "five_1.wav // 5 // 1\n",
      "five_2.wav // 3 // 7\n",
      "four_1.wav // 4 // 5\n",
      "four_2.wav // 4 // 3\n",
      "nine_1.wav // 9 // 1\n",
      "nine_2.wav // 9 // 7\n",
      "one_1.wav // 1 // 5\n",
      "one_2.wav // 1 // 5\n",
      "seven_1.wav // 7 // 2\n",
      "seven_2.wav // 7 // 0\n",
      "six_1.wav // 6 // 2\n",
      "six_2.wav // 6 // 7\n",
      "three_1.wav // 3 // 5\n",
      "three_2.wav // 3 // 7\n",
      "two_1.wav // 2 // 7\n",
      "two_2.wav // 2 // 0\n",
      "zero_1.wav // 0 // 2\n",
      "zero_2.wav // 2 // 6\n"
     ]
    }
   ],
   "source": [
    "for i in range(len(max_ind)):\n",
    "    print(os.listdir(TEST_DATA_DIR)[i],\"//\",max_ind[i].item(),\"//\", second_ind[i].item())"
   ]
  },
  {
   "cell_type": "code",
   "execution_count": null,
   "metadata": {},
   "outputs": [],
   "source": []
  }
 ],
 "metadata": {
  "kernelspec": {
   "display_name": "new_torch",
   "language": "python",
   "name": "new_torch"
  },
  "language_info": {
   "codemirror_mode": {
    "name": "ipython",
    "version": 3
   },
   "file_extension": ".py",
   "mimetype": "text/x-python",
   "name": "python",
   "nbconvert_exporter": "python",
   "pygments_lexer": "ipython3",
   "version": "3.6.10"
  }
 },
 "nbformat": 4,
 "nbformat_minor": 4
}
