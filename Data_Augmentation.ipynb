{
 "cells": [
  {
   "cell_type": "code",
   "execution_count": 212,
   "metadata": {},
   "outputs": [],
   "source": [
    "import cv2\n",
    "import os\n",
    "import matplotlib.pyplot as plt\n",
    "import numpy as np\n",
    "import torch\n",
    "import imgaug.augmenters as aug"
   ]
  },
  {
   "cell_type": "code",
   "execution_count": 213,
   "metadata": {},
   "outputs": [],
   "source": [
    "def img_read_resize(files):\n",
    "    img = cv2.imread(files,cv2.IMREAD_GRAYSCALE)\n",
    "    img = cv2.resize(img, dsize=(40, 30), interpolation=cv2.INTER_LINEAR)\n",
    "    return img"
   ]
  },
  {
   "cell_type": "code",
   "execution_count": 214,
   "metadata": {},
   "outputs": [],
   "source": [
    "folder_instr = []\n",
    "img_bass = []\n",
    "img_bass_hihat = []\n",
    "img_bass_ride = []\n",
    "img_hihat = []\n",
    "img_snare = []\n",
    "img_snare_hihat = []\n",
    "img_snare_tom_floor = []\n",
    "img_tom_1 = []\n",
    "img_tom_1_tom_floor = []\n",
    "img_tom_2 = []\n",
    "img_tom_2_tom_floor = []\n",
    "img_tom_floor = []\n",
    "\n",
    "DIR_instr = 'C:/Users/ADmin/Desktop/drum_instrument_/'\n",
    "\n",
    "for i_instr in os.listdir(DIR_instr):\n",
    "    folder_instr = DIR_instr + i_instr\n",
    "    for i in os.listdir(folder_instr):\n",
    "        if i_instr == 'Bass':\n",
    "            img = img_read_resize(folder_instr+'/'+i)\n",
    "            img_bass.append(img)\n",
    "        elif i_instr == 'Bass+Hihat':\n",
    "            img = img_read_resize(folder_instr+'/'+i)\n",
    "            img_bass_hihat.append(img)\n",
    "        elif i_instr == 'Bass+Ride':\n",
    "            img = img_read_resize(folder_instr+'/'+i)\n",
    "            img_bass_ride.append(img)\n",
    "        elif i_instr == 'Hihat':\n",
    "            img = img_read_resize(folder_instr+'/'+i)\n",
    "            img_hihat.append(img)   \n",
    "        elif i_instr == 'Snare':\n",
    "            img = img_read_resize(folder_instr+'/'+i)\n",
    "            img_snare.append(img) \n",
    "        elif i_instr == 'Snare+Hihat':\n",
    "            img = img_read_resize(folder_instr+'/'+i)\n",
    "            img_snare_hihat.append(img) \n",
    "        elif i_instr == 'Snare+Tom_floor':\n",
    "            img = img_read_resize(folder_instr+'/'+i)\n",
    "            img_snare_tom_floor.append(img)    \n",
    "        elif i_instr == 'Tom_1':\n",
    "            img = img_read_resize(folder_instr+'/'+i)\n",
    "            img_tom_1.append(img)   \n",
    "        elif i_instr == 'Tom_1+Tom_floor':\n",
    "            img = img_read_resize(folder_instr+'/'+i)\n",
    "            img_tom_1_tom_floor.append(img)  \n",
    "        elif i_instr == 'Tom_2':\n",
    "            img = img_read_resize(folder_instr+'/'+i)\n",
    "            img_tom_2.append(img)  \n",
    "        elif i_instr == 'Tom_2+Tom_floor':\n",
    "            img = img_read_resize(folder_instr+'/'+i)\n",
    "            img_tom_2_tom_floor.append(img) \n",
    "        elif i_instr == 'Tom_floor':\n",
    "            img = img_read_resize(folder_instr+'/'+i)\n",
    "            img_tom_floor.append(img)  "
   ]
  },
  {
   "cell_type": "code",
   "execution_count": 215,
   "metadata": {},
   "outputs": [],
   "source": [
    "def aug_data(crop_x, crop_y, blurfactor, noise, shear): # crop_x = 30, crop_y = 30,blurfactor = 2.0 \n",
    "                                                        # noise = 0, shear = -10~10\n",
    "    \n",
    "    seq_0 = aug.Sequential([\n",
    "        aug.Crop(px=(0 ,0 , 0, 0)),\n",
    "        aug.GaussianBlur(sigma=(blurfactor, blurfactor)),\n",
    "        aug.AdditiveGaussianNoise(scale=noise*255),\n",
    "        aug.ShearX((shear,shear))\n",
    "    ])\n",
    "    \n",
    "    seq_1 = aug.Sequential([\n",
    "        aug.Crop(px=(crop_x,crop_x, 0, 0)),\n",
    "        aug.GaussianBlur(sigma=(blurfactor, blurfactor)),\n",
    "        aug.AdditiveGaussianNoise(scale=noise*255),\n",
    "        aug.ShearX((shear,shear))\n",
    "    ])\n",
    "    \n",
    "    seq_2 = aug.Sequential([\n",
    "        aug.Crop(px=(0, 0, crop_y, crop_y)),\n",
    "        aug.GaussianBlur(sigma=(blurfactor, blurfactor)),\n",
    "        aug.AdditiveGaussianNoise(scale=noise*255),\n",
    "        aug.ShearX((shear,shear))\n",
    "    ])\n",
    "\n",
    "    seq_3 = aug.Sequential([\n",
    "        aug.Crop(px=(crop_x, crop_x, crop_y, crop_y)),\n",
    "        aug.GaussianBlur(sigma=(blurfactor, blurfactor)),\n",
    "        aug.AdditiveGaussianNoise(scale=noise*255),\n",
    "        aug.ShearX((shear,shear))\n",
    "    ])\n",
    "    \n",
    "    seq_4 = aug.Sequential([\n",
    "        aug.Crop(px=(crop_x * 2, crop_x * 2, 0, 0)),\n",
    "        aug.GaussianBlur(sigma=(blurfactor, blurfactor)),\n",
    "        aug.AdditiveGaussianNoise(scale=noise*255),\n",
    "        aug.ShearX((shear,shear))\n",
    "    ])\n",
    "\n",
    "    seq_5 = aug.Sequential([\n",
    "        aug.Crop(px=(0, 0, crop_y * 2, crop_y * 2)),\n",
    "        aug.GaussianBlur(sigma=(blurfactor, blurfactor)),\n",
    "        aug.AdditiveGaussianNoise(scale=noise*255),\n",
    "        aug.ShearX((shear,shear))\n",
    "    ])\n",
    "\n",
    "    seq_6 = aug.Sequential([\n",
    "        aug.Crop(px=(crop_x * 2, crop_x * 2, crop_y * 2, crop_y * 2)),\n",
    "        aug.GaussianBlur(sigma=(blurfactor, blurfactor)),\n",
    "        aug.AdditiveGaussianNoise(scale=noise*255),\n",
    "        aug.ShearX((shear,shear))\n",
    "    ])\n",
    "\n",
    "    return seq_0, seq_1, seq_2, seq_3, seq_4, seq_5, seq_6"
   ]
  },
  {
   "cell_type": "code",
   "execution_count": 139,
   "metadata": {
    "collapsed": true
   },
   "outputs": [
    {
     "data": {
      "text/plain": [
       "\"\\nx_ = 30\\ny_ = 30\\nblur_ = 3.0\\nnoise_ = 0.5\\nshear_ = -5\\n\\nseq_0, seq_1, seq_2, seq_3, seq_4, seq_5, seq_6 = aug_data(x_, y_, blur_, noise_, shear_)\\n\\nfor i in range(len(img_bass)):\\n    img_aug_0 = seq_0(images=img_bass)\\n    cv2.imwrite('C:/Users/ADmin/Desktop/drum_instrument/Bass/'+ 'img_aug_0_' + str(i) +                  '_' + str(x_) + '_' + str(y_) + '_' + str(blur_) + '_' + str(noise_) +                '_' + str(shear_) +'.jpg',img_aug_0[i])\\n    img_aug_1 = seq_1(images=img_bass)\\n    cv2.imwrite('C:/Users/ADmin/Desktop/drum_instrument/Bass/'+ 'img_aug_1_' + str(i) +                 '_' + str(x_) + '_' + str(y_) + '_' + str(blur_) + '_' + str(noise_) +                 '_' + str(shear_) +'.jpg',img_aug_1[i])\\n    img_aug_2 = seq_2(images=img_bass)\\n    cv2.imwrite('C:/Users/ADmin/Desktop/drum_instrument/Bass/'+ 'img_aug_2_' + str(i) +                 '_' + str(x_) + '_' + str(y_) + '_' + str(blur_) + '_' + str(noise_) +                 '_' + str(shear_) +'.jpg',img_aug_2[i])\\n    img_aug_3 = seq_3(images=img_bass)\\n    cv2.imwrite('C:/Users/ADmin/Desktop/drum_instrument/Bass/'+ 'img_aug_3_' + str(i) +                 '_' + str(x_) + '_' + str(y_) + '_' + str(blur_) + '_' + str(noise_) +                 '_' + str(shear_) +'.jpg',img_aug_3[i])\\n    img_aug_4 = seq_4(images=img_bass)\\n    cv2.imwrite('C:/Users/ADmin/Desktop/drum_instrument/Bass/'+ 'img_aug_4_' + str(i) +                 '_' + str(x_) + '_' + str(y_) + '_' + str(blur_) + '_' + str(noise_) +                 '_' + str(shear_) +'.jpg',img_aug_4[i])\\n    img_aug_5 = seq_5(images=img_bass)\\n    cv2.imwrite('C:/Users/ADmin/Desktop/drum_instrument/Bass/'+ 'img_aug_5_' + str(i) +                 '_' + str(x_) + '_' + str(y_) + '_' + str(blur_) + '_' + str(noise_) +                 '_' + str(shear_) +'.jpg',img_aug_5[i])\\n    img_aug_6 = seq_6(images=img_bass)\\n    cv2.imwrite('C:/Users/ADmin/Desktop/drum_instrument/Bass/'+ 'img_aug_6_' + str(i) +                 '_' + str(x_) + '_' + str(y_) + '_' + str(blur_) + '_' + str(noise_) +                 '_' + str(shear_) +'.jpg',img_aug_6[i])\\n\""
      ]
     },
     "execution_count": 139,
     "metadata": {},
     "output_type": "execute_result"
    }
   ],
   "source": [
    "\"\"\"\n",
    "x_ = 30\n",
    "y_ = 30\n",
    "blur_ = 3.0\n",
    "noise_ = 0.5\n",
    "shear_ = -5\n",
    "\n",
    "seq_0, seq_1, seq_2, seq_3, seq_4, seq_5, seq_6 = aug_data(x_, y_, blur_, noise_, shear_)\n",
    "\n",
    "for i in range(len(img_bass)):\n",
    "    img_aug_0 = seq_0(images=img_bass)\n",
    "    cv2.imwrite('C:/Users/ADmin/Desktop/drum_instrument/Bass/'+ 'img_aug_0_' + str(i) + \\\n",
    "                 '_' + str(x_) + '_' + str(y_) + '_' + str(blur_) + '_' + str(noise_) +\\\n",
    "                '_' + str(shear_) +'.jpg',img_aug_0[i])\n",
    "    img_aug_1 = seq_1(images=img_bass)\n",
    "    cv2.imwrite('C:/Users/ADmin/Desktop/drum_instrument/Bass/'+ 'img_aug_1_' + str(i) + \\\n",
    "                '_' + str(x_) + '_' + str(y_) + '_' + str(blur_) + '_' + str(noise_) + \\\n",
    "                '_' + str(shear_) +'.jpg',img_aug_1[i])\n",
    "    img_aug_2 = seq_2(images=img_bass)\n",
    "    cv2.imwrite('C:/Users/ADmin/Desktop/drum_instrument/Bass/'+ 'img_aug_2_' + str(i) + \\\n",
    "                '_' + str(x_) + '_' + str(y_) + '_' + str(blur_) + '_' + str(noise_) + \\\n",
    "                '_' + str(shear_) +'.jpg',img_aug_2[i])\n",
    "    img_aug_3 = seq_3(images=img_bass)\n",
    "    cv2.imwrite('C:/Users/ADmin/Desktop/drum_instrument/Bass/'+ 'img_aug_3_' + str(i) + \\\n",
    "                '_' + str(x_) + '_' + str(y_) + '_' + str(blur_) + '_' + str(noise_) + \\\n",
    "                '_' + str(shear_) +'.jpg',img_aug_3[i])\n",
    "    img_aug_4 = seq_4(images=img_bass)\n",
    "    cv2.imwrite('C:/Users/ADmin/Desktop/drum_instrument/Bass/'+ 'img_aug_4_' + str(i) + \\\n",
    "                '_' + str(x_) + '_' + str(y_) + '_' + str(blur_) + '_' + str(noise_) + \\\n",
    "                '_' + str(shear_) +'.jpg',img_aug_4[i])\n",
    "    img_aug_5 = seq_5(images=img_bass)\n",
    "    cv2.imwrite('C:/Users/ADmin/Desktop/drum_instrument/Bass/'+ 'img_aug_5_' + str(i) + \\\n",
    "                '_' + str(x_) + '_' + str(y_) + '_' + str(blur_) + '_' + str(noise_) + \\\n",
    "                '_' + str(shear_) +'.jpg',img_aug_5[i])\n",
    "    img_aug_6 = seq_6(images=img_bass)\n",
    "    cv2.imwrite('C:/Users/ADmin/Desktop/drum_instrument/Bass/'+ 'img_aug_6_' + str(i) + \\\n",
    "                '_' + str(x_) + '_' + str(y_) + '_' + str(blur_) + '_' + str(noise_) + \\\n",
    "                '_' + str(shear_) +'.jpg',img_aug_6[i])\n",
    "\"\"\""
   ]
  },
  {
   "cell_type": "code",
   "execution_count": 216,
   "metadata": {},
   "outputs": [],
   "source": [
    "def createFolder(directory):\n",
    "    try:\n",
    "        if not os.path.exists(directory):\n",
    "            os.makedirs(directory)\n",
    "    except OSError:\n",
    "        print ('Error: Creating directory. ' +  directory)"
   ]
  },
  {
   "cell_type": "code",
   "execution_count": 217,
   "metadata": {},
   "outputs": [],
   "source": [
    "nfolder = ['Bass', 'Bass+Hihat', 'Bass+Ride', 'Hihat', 'Snare', 'Snare+Hihat', \\\n",
    "           'Snare+Tom_floor', 'Tom_1', 'Tom_1+Tom_floor', 'Tom_2', 'Tom_2+Tom_floor', 'Tom_floor']"
   ]
  },
  {
   "cell_type": "code",
   "execution_count": 218,
   "metadata": {},
   "outputs": [],
   "source": [
    "orig_img = [img_bass, img_bass_hihat, img_bass_ride, img_hihat, img_snare,\\\n",
    "            img_snare_hihat, img_snare_tom_floor, img_tom_1, img_tom_1_tom_floor,\\\n",
    "            img_tom_2, img_tom_2_tom_floor, img_tom_floor]"
   ]
  },
  {
   "cell_type": "code",
   "execution_count": 219,
   "metadata": {},
   "outputs": [],
   "source": [
    "#plt.imshow(img_bass[3])"
   ]
  },
  {
   "cell_type": "code",
   "execution_count": 220,
   "metadata": {},
   "outputs": [],
   "source": [
    "for n, n_folder in  enumerate(nfolder):\n",
    "    write_DIR = 'C:/Users/ADmin/Desktop/drum_small_train/'\n",
    "    createFolder(write_DIR + n_folder)\n",
    "    \n",
    "    original = orig_img[n]\n",
    "\n",
    "    crop_para = [2, 1]#[30, 20, 10]\n",
    "    blur_para = [0.1, 0]#[3.0, 2.0, 1.0, 0] \n",
    "    noise_para = [0.001, 0]#[0.5, 0.3, 0.1, 0]\n",
    "    shear_para = [-2, 0, 2]#[-10, -7, -4, -1, 0, 1, 4, 7, 10]\n",
    "\n",
    "    for crop in crop_para:\n",
    "        x_ = crop\n",
    "        y_ = crop\n",
    "        for blur_ in blur_para:\n",
    "            for noise_ in noise_para:\n",
    "                for shear_ in shear_para:\n",
    "                    seq_0, seq_1, seq_2, seq_3, seq_4, seq_5, seq_6 = aug_data(x_, y_, blur_, noise_, shear_)\n",
    "\n",
    "                    for i in range(len(original)):\n",
    "                        img_aug_0 = seq_0(images=original)\n",
    "                        cv2.imwrite(write_DIR + n_folder + '/' + 'img_aug_0_' + str(i) + \\\n",
    "                                     '_' + str(x_) + '_' + str(y_) + '_' + str(blur_) + '_' + str(noise_) +\\\n",
    "                                    '_' + str(shear_) +'.jpg',img_aug_0[i])\n",
    "                        img_aug_1 = seq_1(images=original)\n",
    "                        cv2.imwrite(write_DIR + n_folder  + '/' + 'img_aug_1_' + str(i) + \\\n",
    "                                    '_' + str(x_) + '_' + str(y_) + '_' + str(blur_) + '_' + str(noise_) + \\\n",
    "                                    '_' + str(shear_) +'.jpg',img_aug_1[i])\n",
    "                        img_aug_2 = seq_2(images=original)\n",
    "                        cv2.imwrite(write_DIR + n_folder  + '/' + 'img_aug_2_' + str(i) + \\\n",
    "                                    '_' + str(x_) + '_' + str(y_) + '_' + str(blur_) + '_' + str(noise_) + \\\n",
    "                                    '_' + str(shear_) +'.jpg',img_aug_2[i])\n",
    "                        img_aug_3 = seq_3(images=original)\n",
    "                        cv2.imwrite(write_DIR + n_folder  + '/' + 'img_aug_3_' + str(i) + \\\n",
    "                                    '_' + str(x_) + '_' + str(y_) + '_' + str(blur_) + '_' + str(noise_) + \\\n",
    "                                    '_' + str(shear_) +'.jpg',img_aug_3[i])\n",
    "                        img_aug_4 = seq_4(images=original)\n",
    "                        cv2.imwrite(write_DIR + n_folder  + '/' + 'img_aug_4_' + str(i) + \\\n",
    "                                    '_' + str(x_) + '_' + str(y_) + '_' + str(blur_) + '_' + str(noise_) + \\\n",
    "                                    '_' + str(shear_) +'.jpg',img_aug_4[i])\n",
    "                        img_aug_5 = seq_5(images=original)\n",
    "                        cv2.imwrite(write_DIR + n_folder  + '/' + 'img_aug_5_' + str(i) + \\\n",
    "                                    '_' + str(x_) + '_' + str(y_) + '_' + str(blur_) + '_' + str(noise_) + \\\n",
    "                                    '_' + str(shear_) +'.jpg',img_aug_5[i])\n",
    "                        img_aug_6 = seq_6(images=original)\n",
    "                        cv2.imwrite(write_DIR + n_folder  + '/' + 'img_aug_6_' + str(i) + \\\n",
    "                                    '_' + str(x_) + '_' + str(y_) + '_' + str(blur_) + '_' + str(noise_) + \\\n",
    "                                    '_' + str(shear_) +'.jpg',img_aug_6[i])"
   ]
  },
  {
   "cell_type": "code",
   "execution_count": 221,
   "metadata": {},
   "outputs": [
    {
     "name": "stdout",
     "output_type": "stream",
     "text": [
      "672 / 672 / 672 / 672 / 672 / 672 / 672 / 672 / 672 / 672 / 672 / 672\n"
     ]
    }
   ],
   "source": [
    "a = len(os.listdir(write_DIR+'Bass'))\n",
    "b = len(os.listdir(write_DIR+'Bass+Hihat'))\n",
    "c = len(os.listdir(write_DIR+'Bass+Ride'))\n",
    "d = len(os.listdir(write_DIR+'Hihat'))\n",
    "e = len(os.listdir(write_DIR+'Snare'))\n",
    "f = len(os.listdir(write_DIR+'Snare+Hihat'))\n",
    "g = len(os.listdir(write_DIR+'Snare+Tom_floor'))\n",
    "h = len(os.listdir(write_DIR+'Tom_1'))\n",
    "i = len(os.listdir(write_DIR+'Tom_1+Tom_floor'))\n",
    "j = len(os.listdir(write_DIR+'Tom_2'))\n",
    "k = len(os.listdir(write_DIR+'Tom_2+Tom_floor'))\n",
    "l = len(os.listdir(write_DIR+'Tom_floor'))\n",
    "\n",
    "print(a,'/', b,'/', c,'/', d,'/', e,'/', f,'/', g,'/', h,'/', i,'/', j,'/', k,'/', l)"
   ]
  },
  {
   "cell_type": "code",
   "execution_count": 222,
   "metadata": {},
   "outputs": [
    {
     "data": {
      "text/plain": [
       "8064"
      ]
     },
     "execution_count": 222,
     "metadata": {},
     "output_type": "execute_result"
    }
   ],
   "source": [
    "a+b+c+d+e+f+g+h+i+j+k+l"
   ]
  },
  {
   "cell_type": "code",
   "execution_count": null,
   "metadata": {},
   "outputs": [],
   "source": []
  }
 ],
 "metadata": {
  "kernelspec": {
   "display_name": "new_torch",
   "language": "python",
   "name": "new_torch"
  },
  "language_info": {
   "codemirror_mode": {
    "name": "ipython",
    "version": 3
   },
   "file_extension": ".py",
   "mimetype": "text/x-python",
   "name": "python",
   "nbconvert_exporter": "python",
   "pygments_lexer": "ipython3",
   "version": "3.6.10"
  }
 },
 "nbformat": 4,
 "nbformat_minor": 4
}
